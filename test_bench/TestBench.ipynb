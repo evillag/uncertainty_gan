{
  "cells": [
    {
      "cell_type": "markdown",
      "metadata": {
        "id": "view-in-github",
        "colab_type": "text"
      },
      "source": [
        "<a href=\"https://colab.research.google.com/github/evillag/uncertainty_gan/blob/main/test_bench/TestBench.ipynb\" target=\"_parent\"><img src=\"https://colab.research.google.com/assets/colab-badge.svg\" alt=\"Open In Colab\"/></a>"
      ]
    },
    {
      "cell_type": "code",
      "source": [],
      "metadata": {
        "colab": {
          "base_uri": "https://localhost:8080/"
        },
        "id": "SmUSiLEY03cn",
        "outputId": "598fa307-a09f-4990-d50f-f65c0df87aa9"
      },
      "id": "SmUSiLEY03cn",
      "execution_count": 15,
      "outputs": [
        {
          "output_type": "stream",
          "name": "stdout",
          "text": [
            "mkdir: cannot create directory ‘/content/drive/MyDrive/cern/data/results’: File exists\n"
          ]
        }
      ]
    },
    {
      "metadata": {
        "ExecuteTime": {
          "end_time": "2024-06-07T02:07:23.726620Z",
          "start_time": "2024-06-07T02:07:23.695479Z"
        },
        "colab": {
          "base_uri": "https://localhost:8080/"
        },
        "id": "8953bf4723cb4b5",
        "outputId": "d255de5f-e951-498f-abb9-fcd48df26972"
      },
      "cell_type": "code",
      "source": [
        "IN_COLAB = True\n",
        "\n",
        "try:\n",
        "  import google.colab\n",
        "  # Using Google Drive\n",
        "  from google.colab import drive\n",
        "  drive.mount('/content/drive')\n",
        "\n",
        "  !git clone https://github.com/evillag/uncertainty_gan.git\n",
        "  !mv uncertainty_gan/mcd .\n",
        "  !mv uncertainty_gan/feature_densities .\n",
        "  !mv uncertainty_gan/test_bench .\n",
        "  %rm -rf uncertainty_gan/\n",
        "\n",
        "  !git clone https://gitlab.com/lambda-hse/lhcb-rich-gan-uncertainty.git\n",
        "  !mv lhcb-rich-gan-uncertainty/experiments .\n",
        "  !mv lhcb-rich-gan-uncertainty/src .\n",
        "  %rm -rf lhcb-rich-gan-uncertainty/\n",
        "  %rm -rf sample_data/\n",
        "  %pip install tensorflow-addons\n",
        "\n",
        "  # Dataset download and extraction\n",
        "  !unzip -qq drive/MyDrive/cern/data/rich.zip\n",
        "\n",
        "  # Model checkpoint download and extraction\n",
        "  !unzip -qq drive/MyDrive/cern/data/checkpoints_dropout_0.01.zip\n",
        "\n",
        "  # Model embeddings download and extraction\n",
        "  !unzip -qq drive/MyDrive/cern/data/embeddings.zip\n",
        "\n",
        "  # Results folder creation\n",
        "  !mkdir /content/drive/MyDrive/cern/data/results\n",
        "\n",
        "except:\n",
        "  IN_COLAB = False\n",
        "\n",
        "print(f'IN_COLAB: {IN_COLAB}')"
      ],
      "id": "8953bf4723cb4b5",
      "outputs": [
        {
          "output_type": "stream",
          "name": "stdout",
          "text": [
            "Mounted at /content/drive\n",
            "Cloning into 'uncertainty_gan'...\n",
            "remote: Enumerating objects: 131, done.\u001b[K\n",
            "remote: Counting objects: 100% (131/131), done.\u001b[K\n",
            "remote: Compressing objects: 100% (107/107), done.\u001b[K\n",
            "remote: Total 131 (delta 64), reused 52 (delta 19), pack-reused 0\u001b[K\n",
            "Receiving objects: 100% (131/131), 17.34 MiB | 10.81 MiB/s, done.\n",
            "Resolving deltas: 100% (64/64), done.\n",
            "Cloning into 'lhcb-rich-gan-uncertainty'...\n",
            "remote: Enumerating objects: 210, done.\u001b[K\n",
            "remote: Total 210 (delta 0), reused 0 (delta 0), pack-reused 210 (from 1)\u001b[K\n",
            "Receiving objects: 100% (210/210), 2.94 MiB | 8.75 MiB/s, done.\n",
            "Resolving deltas: 100% (94/94), done.\n",
            "Collecting tensorflow-addons\n",
            "  Downloading tensorflow_addons-0.23.0-cp310-cp310-manylinux_2_17_x86_64.manylinux2014_x86_64.whl (611 kB)\n",
            "\u001b[2K     \u001b[90m━━━━━━━━━━━━━━━━━━━━━━━━━━━━━━━━━━━━━━━━\u001b[0m \u001b[32m611.8/611.8 kB\u001b[0m \u001b[31m6.5 MB/s\u001b[0m eta \u001b[36m0:00:00\u001b[0m\n",
            "\u001b[?25hRequirement already satisfied: packaging in /usr/local/lib/python3.10/dist-packages (from tensorflow-addons) (24.0)\n",
            "Collecting typeguard<3.0.0,>=2.7 (from tensorflow-addons)\n",
            "  Downloading typeguard-2.13.3-py3-none-any.whl (17 kB)\n",
            "Installing collected packages: typeguard, tensorflow-addons\n",
            "Successfully installed tensorflow-addons-0.23.0 typeguard-2.13.3\n",
            "IN_COLAB: True\n"
          ]
        }
      ],
      "execution_count": 1
    },
    {
      "cell_type": "code",
      "id": "initial_id",
      "metadata": {
        "collapsed": true,
        "ExecuteTime": {
          "end_time": "2024-06-07T02:07:06.215988Z",
          "start_time": "2024-06-07T02:07:03.029044Z"
        },
        "id": "initial_id"
      },
      "source": [
        "import numpy as np\n",
        "\n",
        "from test_bench import get_checkpoint_name, load_particle_datasets, subsample_dataset\n",
        "from test_bench.model import MonteCarloDropoutModel\n"
      ],
      "outputs": [],
      "execution_count": 2
    },
    {
      "metadata": {
        "id": "b537f49152f44ec8"
      },
      "cell_type": "markdown",
      "source": [
        "# Test Bench for the Monte Carlo Dropout and Feature Density methods\n",
        "\n",
        "1. Select sample data\n",
        "2. Create a model\n",
        "3. Generate a single target with single inference mode\n",
        "4. Estimate MCD uncertainty\n",
        "5. Estimate FD uncertainty"
      ],
      "id": "b537f49152f44ec8"
    },
    {
      "metadata": {
        "ExecuteTime": {
          "end_time": "2024-06-07T02:07:25.929299Z",
          "start_time": "2024-06-07T02:07:25.913657Z"
        },
        "id": "754279944432b7f1"
      },
      "cell_type": "code",
      "source": [
        "# Parameters\n",
        "PARTICLE = 'pion'\n",
        "CHECKPOINT_DP = 0.01\n",
        "DROPOUT_TYPE = 'bernoulli_structured'\n",
        "CHECKPOINT_BASE = 'checkpoints/'\n",
        "DATA_DIR = 'rich/'\n",
        "SUB_SAMPLE_PERCENT = 0.0001\n",
        "\n",
        "# MCD parameters\n",
        "MCD_ENSEMBLE_SIZE = 300\n",
        "\n",
        "# FD parameters\n",
        "embeddings_dir = f'embeddings/'\n",
        "\n",
        "# Save results path\n",
        "output_dir = 'results/'\n",
        "if IN_COLAB:\n",
        "  output_dir = f'/content/drive/MyDrive/cern/data/{output_dir}'"
      ],
      "id": "754279944432b7f1",
      "outputs": [],
      "execution_count": 25
    },
    {
      "metadata": {
        "id": "707cd509ae0c649a"
      },
      "cell_type": "markdown",
      "source": [
        "# Load data and Sample selection"
      ],
      "id": "707cd509ae0c649a"
    },
    {
      "metadata": {
        "ExecuteTime": {
          "end_time": "2024-06-07T02:07:45.171937Z",
          "start_time": "2024-06-07T02:07:27.682283Z"
        },
        "colab": {
          "base_uri": "https://localhost:8080/"
        },
        "id": "73e7b604fa3d2457",
        "outputId": "15f39f8b-d0db-4e2f-9657-1a88b968fdc9"
      },
      "cell_type": "code",
      "source": [
        "dataset = load_particle_datasets(PARTICLE, DATA_DIR)"
      ],
      "id": "73e7b604fa3d2457",
      "outputs": [
        {
          "output_type": "stream",
          "name": "stdout",
          "text": [
            "Reading and concatenating datasets:\n",
            "\trich/pion_-_down_2016_.csv\n",
            "\trich/pion_+_up_2016_.csv\n",
            "\trich/pion_-_up_2016_.csv\n",
            "\trich/pion2_+_down_2016_.csv\n",
            "\trich/pion2_-_up_2016_.csv\n",
            "\trich/pion_+_down_2016_.csv\n",
            "\trich/pion2_+_up_2016_.csv\n",
            "\trich/pion2_-_down_2016_.csv\n",
            "splitting to train/val/test\n",
            "fitting the scaler\n",
            "scaler train sample size: 2000000\n",
            "scaler n_quantiles: 100000, time = 2.3753974437713623\n",
            "scaling train set\n",
            "scaling test set\n",
            "converting dtype to <class 'numpy.float32'>\n",
            "feats_train shape\t(948527, 3)\n",
            "targets_train shape\t(948527, 5)\n",
            "feats_val shape  \t(526449, 3)\n",
            "targets_val shape\t(526449, 5)\n",
            "\n"
          ]
        }
      ],
      "execution_count": 4
    },
    {
      "metadata": {
        "ExecuteTime": {
          "end_time": "2024-06-07T02:07:45.715412Z",
          "start_time": "2024-06-07T02:07:45.171937Z"
        },
        "colab": {
          "base_uri": "https://localhost:8080/"
        },
        "id": "31d95808b32bac06",
        "outputId": "479138d2-86bd-4a73-8b3c-a2d5340bb432"
      },
      "cell_type": "code",
      "source": [
        "# Draw a sample of the datasets\n",
        "x_sample, y_sample = subsample_dataset(dataset['feats_val'], dataset['targets_val'], SUB_SAMPLE_PERCENT)\n",
        "x_sample.shape, y_sample.shape"
      ],
      "id": "31d95808b32bac06",
      "outputs": [
        {
          "output_type": "execute_result",
          "data": {
            "text/plain": [
              "(TensorShape([52, 3]), TensorShape([52, 5]))"
            ]
          },
          "metadata": {},
          "execution_count": 26
        }
      ],
      "execution_count": 26
    },
    {
      "metadata": {
        "id": "605b58c1e3fc7f9"
      },
      "cell_type": "markdown",
      "source": [
        "# Model creation"
      ],
      "id": "605b58c1e3fc7f9"
    },
    {
      "metadata": {
        "ExecuteTime": {
          "end_time": "2024-06-07T02:07:46.915006Z",
          "start_time": "2024-06-07T02:07:45.715412Z"
        },
        "colab": {
          "base_uri": "https://localhost:8080/"
        },
        "id": "74ff0b59fb3a914d",
        "outputId": "55f64de8-e940-4f58-f34c-3888e65d6bd1"
      },
      "cell_type": "code",
      "source": [
        "model = MonteCarloDropoutModel(\n",
        "    PARTICLE,\n",
        "    dropout_rate=CHECKPOINT_DP,\n",
        "    checkpoint_dir=CHECKPOINT_BASE + get_checkpoint_name(PARTICLE, CHECKPOINT_DP, DROPOUT_TYPE),\n",
        "    debug=True\n",
        ")\n",
        "generator = model.get_generator()"
      ],
      "id": "74ff0b59fb3a914d",
      "outputs": [
        {
          "output_type": "stream",
          "name": "stdout",
          "text": [
            "Generating model for pion with a dropout rate of 0.01\n",
            "Layer 0\n",
            "Layer 1\n",
            "Layer 2\n",
            "Layer 3\n",
            "Layer 4\n",
            "\n",
            "Generator:\n",
            "\n",
            "Model: \"virtual_ensemble_model\"\n",
            "________________________________________________________________________________________________\n",
            " Layer (type)                              Output Shape                          Param #        \n",
            "================================================================================================\n",
            " Inputs (InputLayer)                       [(None, 3)]                           0              \n",
            "                                                                                                \n",
            " NoiseInjection (NoiseInjection)           (None, 67)                            0              \n",
            "                                                                                                \n",
            " Layer_0/Dense (Dense)                     (None, 128)                           8704           \n",
            "                                                                                                \n",
            " Layer_0/LeakyReLU (LeakyReLU)             (None, 128)                           0              \n",
            "                                                                                                \n",
            " Layer_0/DropoutTrain (DropoutTrain)       (None, 128)                           0              \n",
            "                                                                                                \n",
            " Layer_1/Dense (Dense)                     (None, 128)                           16512          \n",
            "                                                                                                \n",
            " Layer_1/LeakyReLU (LeakyReLU)             (None, 128)                           0              \n",
            "                                                                                                \n",
            " Layer_1/DropoutTrain (DropoutTrain)       (None, 128)                           0              \n",
            "                                                                                                \n",
            " Layer_2/Dense (Dense)                     (None, 128)                           16512          \n",
            "                                                                                                \n",
            " Layer_2/LeakyReLU (LeakyReLU)             (None, 128)                           0              \n",
            "                                                                                                \n",
            " Layer_2/DropoutTrain (DropoutTrain)       (None, 128)                           0              \n",
            "                                                                                                \n",
            " Layer_3/Dense (Dense)                     (None, 128)                           16512          \n",
            "                                                                                                \n",
            " Layer_3/LeakyReLU (LeakyReLU)             (None, 128)                           0              \n",
            "                                                                                                \n",
            " Layer_3/DropoutTrain (DropoutTrain)       (None, 128)                           0              \n",
            "                                                                                                \n",
            " Layer_4/Dense (Dense)                     (None, 128)                           16512          \n",
            "                                                                                                \n",
            " Layer_4/LeakyReLU (LeakyReLU)             (None, 128)                           0              \n",
            "                                                                                                \n",
            " Layer_4/DropoutTrain (DropoutTrain)       (None, 128)                           0              \n",
            "                                                                                                \n",
            " DensePrediction (Dense)                   (None, 5)                             645            \n",
            "                                                                                                \n",
            "================================================================================================\n",
            "Total params: 75397 (294.52 KB)\n",
            "Trainable params: 75397 (294.52 KB)\n",
            "Non-trainable params: 0 (0.00 Byte)\n",
            "________________________________________________________________________________________________\n",
            "None\n",
            "\n",
            "Discriminator:\n",
            "\n",
            "Model: \"model\"\n",
            "__________________________________________________________________________________________________\n",
            " Layer (type)                Output Shape                 Param #   Connected to                  \n",
            "==================================================================================================\n",
            " input_1 (InputLayer)        [(None, 3)]                  0         []                            \n",
            "                                                                                                  \n",
            " input_2 (InputLayer)        [(None, 5)]                  0         []                            \n",
            "                                                                                                  \n",
            " concatenate (Concatenate)   (None, 8)                    0         ['input_1[0][0]',             \n",
            "                                                                     'input_2[0][0]']             \n",
            "                                                                                                  \n",
            " sequential (Sequential)     (None, 256)                  100224    ['concatenate[0][0]']         \n",
            "                                                                                                  \n",
            "==================================================================================================\n",
            "Total params: 100224 (391.50 KB)\n",
            "Trainable params: 100224 (391.50 KB)\n",
            "Non-trainable params: 0 (0.00 Byte)\n",
            "__________________________________________________________________________________________________\n",
            "None\n",
            "\n",
            "Checkpoint path: checkpoints/bernoulli_structured_dropout_line_test_cramer_drop_rate_0.01_pion\n",
            "\n",
            "0.001\n",
            "Last ckpt:  checkpoints/bernoulli_structured_dropout_line_test_cramer_drop_rate_0.01_pion/ckpt-21\n"
          ]
        }
      ],
      "execution_count": 6
    },
    {
      "metadata": {
        "id": "97d6eaa45996218e"
      },
      "cell_type": "markdown",
      "source": [
        "## Single model prediction"
      ],
      "id": "97d6eaa45996218e"
    },
    {
      "metadata": {
        "ExecuteTime": {
          "end_time": "2024-06-07T02:07:51.210066Z",
          "start_time": "2024-06-07T02:07:46.915179Z"
        },
        "colab": {
          "base_uri": "https://localhost:8080/"
        },
        "id": "c6fb303dc66f661b",
        "outputId": "f9371cc8-988f-4230-a0c0-9f11d003fda8"
      },
      "cell_type": "code",
      "source": [
        "generator.single_model_inference_mode()\n",
        "t_generated = generator.predict(x_sample)\n",
        "t_generated"
      ],
      "id": "c6fb303dc66f661b",
      "outputs": [
        {
          "output_type": "stream",
          "name": "stdout",
          "text": [
            "2/2 [==============================] - 0s 7ms/step\n"
          ]
        },
        {
          "output_type": "execute_result",
          "data": {
            "text/plain": [
              "array([[ 1.71494377e+00, -8.75371277e-01,  1.38217902e+00,\n",
              "        -1.79405713e+00, -1.20285940e+00],\n",
              "       [-8.63066077e-01, -5.68030655e-01, -3.46026927e-01,\n",
              "        -4.68910396e-01, -5.03679872e-01],\n",
              "       [-3.78945112e-01, -1.95473480e+00, -4.04925525e-01,\n",
              "        -1.53682017e+00, -1.62722826e+00],\n",
              "       [-7.26419032e-01, -1.88643575e+00, -3.21941942e-01,\n",
              "        -1.25430036e+00, -1.37325430e+00],\n",
              "       [ 2.02215552e+00, -1.96952581e+00,  1.80116665e+00,\n",
              "        -1.58964348e+00, -1.64682269e+00],\n",
              "       [ 8.42753232e-01, -9.59526956e-01,  1.06354046e+00,\n",
              "        -4.87225056e-01, -1.00511372e-01],\n",
              "       [-5.34297824e-01, -1.86930275e+00, -2.22154126e-01,\n",
              "        -1.45167756e+00, -1.59293771e+00],\n",
              "       [ 6.89221859e-01, -1.10910416e+00,  1.15184903e+00,\n",
              "        -1.10462689e+00, -7.00429618e-01],\n",
              "       [-1.08927584e+00,  1.23493612e-01, -1.47566342e+00,\n",
              "         2.55021811e-01,  2.40261644e-01],\n",
              "       [ 1.17554951e+00,  1.13552022e+00,  4.78784591e-01,\n",
              "         2.42643428e+00,  2.35962224e+00],\n",
              "       [ 4.21615303e-01, -2.20240927e+00,  8.65052402e-01,\n",
              "        -1.35750723e+00, -1.49676180e+00],\n",
              "       [ 1.80879787e-01, -9.19230998e-01,  3.58117610e-01,\n",
              "        -5.01692593e-01, -5.95200717e-01],\n",
              "       [ 5.91761589e-01, -2.13376999e-01,  5.31533241e-01,\n",
              "         1.22167230e-01,  9.89647508e-02],\n",
              "       [-9.79521334e-01, -3.03141117e-01, -8.82201672e-01,\n",
              "        -1.75626099e-01, -1.77685857e-01],\n",
              "       [ 3.27864856e-01, -6.93863332e-01,  7.09597886e-01,\n",
              "         6.03845716e-03,  1.22377276e-03],\n",
              "       [ 1.58084953e+00, -6.20219231e-01,  1.11773825e+00,\n",
              "        -9.04661119e-01, -7.48526454e-02],\n",
              "       [-6.69505179e-01,  6.78350627e-01, -1.48945010e+00,\n",
              "         7.81112909e-01,  7.37831235e-01],\n",
              "       [-4.17689323e-01, -1.13571072e+00, -2.79284179e-01,\n",
              "        -9.61684167e-01, -1.05393553e+00],\n",
              "       [-5.82217157e-01, -7.94014990e-01, -6.09941423e-01,\n",
              "        -3.09280932e-01, -3.32735479e-01],\n",
              "       [ 4.99727964e-01, -5.97009242e-01,  2.51802146e-01,\n",
              "        -6.16178036e-01, -9.84485149e-02],\n",
              "       [ 2.00186396e+00, -2.17052817e-01,  4.71955329e-01,\n",
              "         6.55856878e-02,  5.51678538e-02],\n",
              "       [-5.62586427e-01, -1.06699491e+00, -7.54491687e-02,\n",
              "        -8.31646740e-01, -9.06002581e-01],\n",
              "       [ 5.87627068e-02, -4.84794378e-03,  1.52073038e+00,\n",
              "         1.79453492e-01,  1.65083945e-01],\n",
              "       [-7.65674353e-01, -7.12862492e-01, -5.27310550e-01,\n",
              "        -6.12656951e-01, -6.65878594e-01],\n",
              "       [-2.12807631e+00, -1.15903020e+00, -1.52690554e+00,\n",
              "        -1.11131215e+00, -1.20968533e+00],\n",
              "       [ 2.07149720e+00, -1.59550142e+00,  1.49643421e+00,\n",
              "        -9.52024519e-01, -3.55280638e-01],\n",
              "       [ 5.98500133e-01, -1.58966208e+00,  1.25298595e+00,\n",
              "        -1.44203401e+00, -1.02130318e+00],\n",
              "       [ 1.87566030e+00, -5.49202025e-01,  1.38446391e+00,\n",
              "        -3.12315524e-02,  3.08782935e-01],\n",
              "       [-4.75589991e-01,  1.53373694e+00, -1.07520390e+00,\n",
              "         1.57097006e+00,  1.47761679e+00],\n",
              "       [ 1.02777112e+00, -3.25311691e-01,  1.12227845e+00,\n",
              "         1.12480998e+00,  1.74103189e+00],\n",
              "       [-1.81143177e+00, -5.90917766e-01, -1.58203351e+00,\n",
              "        -4.99438703e-01, -5.40787697e-01],\n",
              "       [ 4.61213291e-01, -1.69208908e+00,  3.20995599e-01,\n",
              "        -1.25512147e+00, -8.72872889e-01],\n",
              "       [ 2.50087351e-01, -3.60873938e-01,  2.02422559e-01,\n",
              "        -5.05113542e-01,  8.60374570e-02],\n",
              "       [ 2.09817234e-02,  4.37369555e-01, -2.82966286e-01,\n",
              "         2.01005888e+00,  1.92366385e+00],\n",
              "       [ 5.81793725e-01, -1.22330451e+00,  6.71668887e-01,\n",
              "        -5.48256576e-01, -6.69681907e-01],\n",
              "       [-1.13798225e+00, -9.14048404e-02, -1.66518545e+00,\n",
              "         3.19596529e-02,  2.75925994e-02],\n",
              "       [-5.91356456e-01, -1.89417458e+00,  2.38836959e-01,\n",
              "        -1.78162003e+00, -2.02197027e+00],\n",
              "       [-2.18367553e+00, -1.47467685e+00, -1.71916389e+00,\n",
              "        -1.43209100e+00, -1.56224370e+00],\n",
              "       [ 1.01354726e-01, -1.58894730e+00,  1.64498866e-01,\n",
              "        -1.43126178e+00, -1.44550109e+00],\n",
              "       [-3.19609880e-01, -1.07199717e+00, -3.73534918e-01,\n",
              "        -7.69909263e-01, -8.63379538e-01],\n",
              "       [ 5.11683404e-01, -4.23547447e-01,  4.72826838e-01,\n",
              "        -6.22251928e-01,  3.69302839e-01],\n",
              "       [ 1.31653297e+00, -2.03915381e+00,  9.32229578e-01,\n",
              "        -1.38040161e+00, -1.23672318e+00],\n",
              "       [ 7.97209740e-01, -8.95816624e-01,  6.45962417e-01,\n",
              "        -1.33371782e+00, -8.66086423e-01],\n",
              "       [ 1.99103355e-01,  1.80812001e+00, -1.12950340e-01,\n",
              "         4.19897646e-01,  1.77686334e-01],\n",
              "       [ 2.47759253e-01,  1.22342086e+00,  1.94776371e-01,\n",
              "        -1.15442514e-01,  5.15094995e-01],\n",
              "       [ 2.52458125e-01,  8.35373640e-01,  1.84514821e-01,\n",
              "        -4.94677901e-01, -9.57084298e-02],\n",
              "       [-8.44641149e-01, -1.93549919e+00, -5.75098634e-01,\n",
              "        -1.41703176e+00, -1.55986214e+00],\n",
              "       [ 2.98853278e-01, -5.20844281e-01,  3.35525066e-01,\n",
              "        -2.36605585e-01,  5.81440210e-01],\n",
              "       [ 2.78583407e-01, -7.80667484e-01,  2.91390747e-01,\n",
              "        -7.64358819e-01, -2.51894563e-01],\n",
              "       [ 3.50273967e-01,  5.38733423e-01,  1.91045865e-01,\n",
              "        -1.66032165e-02,  5.40223718e-01],\n",
              "       [-1.02858603e+00, -8.57532918e-01, -8.34325433e-01,\n",
              "        -7.79102683e-01, -8.54562581e-01],\n",
              "       [ 4.16566491e-01,  1.23009253e+00,  1.34862259e-01,\n",
              "         1.93600488e+00,  1.78521347e+00]], dtype=float32)"
            ]
          },
          "metadata": {},
          "execution_count": 27
        }
      ],
      "execution_count": 27
    },
    {
      "cell_type": "code",
      "source": [
        "# Save real and generated targets\n",
        "np.save(output_dir + f'{PARTICLE}_t_generated.npy', t_generated)\n",
        "np.save(output_dir + f'{PARTICLE}_y_real.npy', y_sample)"
      ],
      "metadata": {
        "id": "JpMqFDki0rkw"
      },
      "id": "JpMqFDki0rkw",
      "execution_count": 28,
      "outputs": []
    },
    {
      "metadata": {
        "id": "121c68a8bd902eea"
      },
      "cell_type": "markdown",
      "source": [
        "## Monte Carlo Dropout method"
      ],
      "id": "121c68a8bd902eea"
    },
    {
      "metadata": {
        "ExecuteTime": {
          "end_time": "2024-06-07T02:07:56.116647Z",
          "start_time": "2024-06-07T02:07:51.210066Z"
        },
        "colab": {
          "base_uri": "https://localhost:8080/"
        },
        "id": "7c719499767f5934",
        "outputId": "b02c7e9c-e6f5-4981-aed5-42cd509508fc"
      },
      "cell_type": "code",
      "source": [
        "from mcd.MCDEvaluator import evaluate_model as mcd_evaluate_model\n",
        "\n",
        "mcd_uncertainty, _ =  mcd_evaluate_model(model, x_sample, MCD_ENSEMBLE_SIZE)\n",
        "mcd_uncertainty\n"
      ],
      "id": "7c719499767f5934",
      "outputs": [
        {
          "output_type": "stream",
          "name": "stdout",
          "text": [
            "Generating ensemble(300) predictions\n"
          ]
        },
        {
          "output_type": "stream",
          "name": "stderr",
          "text": [
            "100%|██████████| 300/300 [00:09<00:00, 31.31it/s]\n"
          ]
        },
        {
          "output_type": "execute_result",
          "data": {
            "text/plain": [
              "<tf.Tensor: shape=(52, 5), dtype=float32, numpy=\n",
              "array([[0.11138407, 0.32759705, 0.08113888, 0.43188152, 0.8597005 ],\n",
              "       [0.46332255, 0.41670755, 0.784654  , 0.4325334 , 0.47862163],\n",
              "       [0.43393648, 0.5726564 , 0.61083406, 0.6372936 , 0.7354951 ],\n",
              "       [0.43797037, 0.45652518, 0.6370475 , 0.4589556 , 0.5417607 ],\n",
              "       [0.39896107, 0.4032338 , 0.3709528 , 0.46522623, 0.71632975],\n",
              "       [0.38586852, 0.44261652, 0.3861187 , 0.6537902 , 0.9874884 ],\n",
              "       [0.3414087 , 0.5845458 , 0.56717235, 0.53932136, 0.6436421 ],\n",
              "       [0.21178134, 0.25543192, 0.14722744, 0.3583195 , 1.0692273 ],\n",
              "       [0.23356725, 0.36762312, 0.31954572, 0.37006164, 0.37459737],\n",
              "       [0.2843924 , 0.34751424, 0.2608903 , 0.5008928 , 0.86389905],\n",
              "       [0.4463591 , 0.43958482, 0.51119494, 0.47689703, 0.6413875 ],\n",
              "       [0.25449702, 0.38027492, 0.5036256 , 0.42295074, 0.49591246],\n",
              "       [0.3798613 , 0.5347673 , 0.64450645, 0.6072182 , 0.711764  ],\n",
              "       [0.34339485, 0.42521304, 0.7455092 , 0.4423738 , 0.4754759 ],\n",
              "       [0.34962064, 0.57763493, 0.568048  , 0.5848002 , 0.72445375],\n",
              "       [0.10988092, 0.2810179 , 0.08200408, 0.40511712, 0.5091382 ],\n",
              "       [0.15203868, 0.12423929, 0.5554653 , 0.11162756, 0.10045139],\n",
              "       [0.32591116, 0.45533794, 0.46110058, 0.62501454, 0.70250964],\n",
              "       [0.36666778, 0.50522196, 0.64605844, 0.56220156, 0.6535081 ],\n",
              "       [0.19954805, 0.3598949 , 0.16152494, 0.48851177, 0.52701527],\n",
              "       [0.23948033, 0.4081247 , 0.46330464, 0.48956898, 0.6060498 ],\n",
              "       [0.39515954, 0.35533723, 0.49307388, 0.388196  , 0.4629304 ],\n",
              "       [0.30707037, 0.7118317 , 0.5609091 , 0.8540847 , 0.85720885],\n",
              "       [0.40405437, 0.5050941 , 0.73529035, 0.47653708, 0.49466676],\n",
              "       [0.3736468 , 0.4164166 , 0.5919512 , 0.4472461 , 0.50294876],\n",
              "       [0.332509  , 0.3510527 , 0.25334543, 0.50542104, 1.0448805 ],\n",
              "       [0.4919188 , 0.60882944, 0.5038768 , 0.69621605, 0.9462977 ],\n",
              "       [0.2655643 , 0.3304401 , 0.20802116, 0.553156  , 1.1894284 ],\n",
              "       [0.25538215, 0.12201257, 0.5999963 , 0.10870117, 0.09616739],\n",
              "       [0.37643576, 0.41224983, 0.38059533, 0.5834807 , 0.8591856 ],\n",
              "       [0.26176828, 0.2843743 , 0.27963355, 0.31268173, 0.34778216],\n",
              "       [0.36729804, 0.40020078, 0.35890144, 0.5942187 , 0.9157008 ],\n",
              "       [0.30450496, 0.4011072 , 0.2793417 , 0.6061944 , 0.8542885 ],\n",
              "       [0.39214706, 0.49376246, 0.48128438, 0.5736332 , 0.67889166],\n",
              "       [0.36779654, 0.4907793 , 0.53456   , 0.53908765, 0.7131367 ],\n",
              "       [0.34684733, 0.3921034 , 0.5171917 , 0.40704682, 0.4290031 ],\n",
              "       [0.4214472 , 0.37783325, 0.52197397, 0.41309488, 0.49244574],\n",
              "       [0.47297186, 0.4587334 , 0.69287294, 0.49583897, 0.5726013 ],\n",
              "       [0.50650704, 0.59744346, 0.51827675, 0.7135798 , 0.9861269 ],\n",
              "       [0.40724733, 0.52750486, 0.61008084, 0.527182  , 0.61952347],\n",
              "       [0.3113104 , 0.29245183, 0.21822292, 0.3894444 , 1.088871  ],\n",
              "       [0.33018884, 0.3983162 , 0.3255126 , 0.52941597, 0.7778473 ],\n",
              "       [0.2609181 , 0.3659665 , 0.22503784, 0.57462776, 0.8722707 ],\n",
              "       [0.06518272, 0.25648734, 0.0513868 , 0.25081432, 0.42728546],\n",
              "       [0.10629302, 0.3034784 , 0.06617191, 0.45914036, 0.6931802 ],\n",
              "       [0.12302817, 0.29280916, 0.07135884, 0.31868094, 0.74796015],\n",
              "       [0.35672686, 0.62984335, 0.59978056, 0.693105  , 0.8150094 ],\n",
              "       [0.3773246 , 0.36409968, 0.3395808 , 0.5708773 , 0.92475647],\n",
              "       [0.3329581 , 0.469258  , 0.2755625 , 0.6807174 , 1.0362219 ],\n",
              "       [0.07482181, 0.26600897, 0.06599014, 0.3022495 , 0.40322295],\n",
              "       [0.4493368 , 0.47936538, 0.82919896, 0.48062012, 0.5095514 ],\n",
              "       [0.35993665, 0.7116882 , 0.54905754, 0.7724856 , 0.855878  ]],\n",
              "      dtype=float32)>"
            ]
          },
          "metadata": {},
          "execution_count": 29
        }
      ],
      "execution_count": 29
    },
    {
      "metadata": {
        "ExecuteTime": {
          "end_time": "2024-06-07T02:07:56.132262Z",
          "start_time": "2024-06-07T02:07:56.116647Z"
        },
        "colab": {
          "base_uri": "https://localhost:8080/"
        },
        "id": "363e0d79eb84e9fa",
        "outputId": "a5923f98-e252-4f19-b9a6-314f78c92151"
      },
      "cell_type": "code",
      "source": [
        "mcd_uncertainty.shape"
      ],
      "id": "363e0d79eb84e9fa",
      "outputs": [
        {
          "output_type": "execute_result",
          "data": {
            "text/plain": [
              "TensorShape([52, 5])"
            ]
          },
          "metadata": {},
          "execution_count": 30
        }
      ],
      "execution_count": 30
    },
    {
      "cell_type": "code",
      "source": [
        "# Save MCD uncertainties\n",
        "np.save(output_dir + f'{PARTICLE}_mcd_uncertainty.npy', mcd_uncertainty)"
      ],
      "metadata": {
        "id": "Vs1mp9kZ1d4u"
      },
      "id": "Vs1mp9kZ1d4u",
      "execution_count": 32,
      "outputs": []
    },
    {
      "metadata": {
        "id": "d7e2a5f809e9e7f1"
      },
      "cell_type": "markdown",
      "source": [
        "## Feature Densities method"
      ],
      "id": "d7e2a5f809e9e7f1"
    },
    {
      "metadata": {
        "id": "83a242ecd57dbec9"
      },
      "cell_type": "markdown",
      "source": [
        "### Uncertainty estimation"
      ],
      "id": "83a242ecd57dbec9"
    },
    {
      "metadata": {
        "id": "622705127bfa96df"
      },
      "cell_type": "markdown",
      "source": [],
      "id": "622705127bfa96df"
    },
    {
      "metadata": {
        "jupyter": {
          "is_executing": true
        },
        "ExecuteTime": {
          "start_time": "2024-06-07T02:09:08.234787Z"
        },
        "colab": {
          "base_uri": "https://localhost:8080/"
        },
        "id": "f5e680e33c07c6bd",
        "outputId": "8cfd3c28-dbfc-4b8f-9eb5-e7b8b270f51d"
      },
      "cell_type": "code",
      "source": [
        "from feature_densities.feature_density_evaluator import evaluate_model as fd_evaluate_model\n",
        "\n",
        "train_embeddings = np.load(embeddings_dir + f'{PARTICLE}_train_embeddings.npy')\n",
        "print(train_embeddings.shape)\n",
        "\n",
        "fd_uncertainty_integration, _ = fd_evaluate_model(model, x_sample, known_embeddings=train_embeddings, likelihood_method='integration')\n",
        "\n",
        "print('Feature Densities using INTEGRATION uncertainty score for x_sample:')\n",
        "fd_uncertainty_integration"
      ],
      "id": "f5e680e33c07c6bd",
      "outputs": [
        {
          "output_type": "stream",
          "name": "stdout",
          "text": [
            "(948325, 128)\n",
            "Generating an embeddings model\n",
            "Fitting KDE functions to known embeddings\n",
            "Calculating sample´s embeddings\n",
            "2/2 [==============================] - 0s 6ms/step\n",
            "Estimating sample´s feature densities\n"
          ]
        },
        {
          "output_type": "stream",
          "name": "stderr",
          "text": [
            "100%|██████████| 52/52 [10:21<00:00, 11.95s/it]"
          ]
        },
        {
          "output_type": "stream",
          "name": "stdout",
          "text": [
            "Feature Densities using INTEGRATION uncertainty score for x_sample:\n"
          ]
        },
        {
          "output_type": "stream",
          "name": "stderr",
          "text": [
            "\n"
          ]
        },
        {
          "output_type": "execute_result",
          "data": {
            "text/plain": [
              "<tf.Tensor: shape=(52,), dtype=float64, numpy=\n",
              "array([0.99696795, 0.98386122, 0.9930798 , 0.99029255, 0.99388116,\n",
              "       0.99106039, 0.98962542, 0.99185572, 0.98346811, 0.99297008,\n",
              "       0.99250436, 0.99122989, 0.99037003, 0.97890695, 0.99057272,\n",
              "       0.99336079, 0.98162482, 0.9881128 , 0.98746889, 0.99346868,\n",
              "       0.99161914, 0.98390812, 0.98245716, 0.98058026, 0.97937096,\n",
              "       0.99569436, 0.98796848, 0.9909012 , 0.98491409, 0.99193857,\n",
              "       0.98075132, 0.99061284, 0.99276764, 0.98459823, 0.98762967,\n",
              "       0.9787404 , 0.98669493, 0.98364207, 0.98975249, 0.98866702,\n",
              "       0.99224149, 0.9924707 , 0.99271423, 0.99475767, 0.99674197,\n",
              "       0.99607984, 0.99230945, 0.98954991, 0.99243532, 0.99160392,\n",
              "       0.98236469, 0.98252359])>"
            ]
          },
          "metadata": {},
          "execution_count": 33
        }
      ],
      "execution_count": 33
    },
    {
      "cell_type": "code",
      "source": [
        "# Save FD uncertainties with integration\n",
        "np.save(output_dir + f'{PARTICLE}_fd_uncertainty_integration.npy', fd_uncertainty_integration)"
      ],
      "metadata": {
        "id": "zONmkpvs1rMd"
      },
      "execution_count": 34,
      "outputs": [],
      "id": "zONmkpvs1rMd"
    },
    {
      "metadata": {
        "colab": {
          "base_uri": "https://localhost:8080/"
        },
        "id": "8708230d258d1631",
        "outputId": "760d675f-c98c-47ce-d256-55c3f0ae65a0"
      },
      "cell_type": "code",
      "outputs": [
        {
          "output_type": "stream",
          "name": "stdout",
          "text": [
            "Generating an embeddings model\n",
            "Fitting KDE functions to known embeddings\n",
            "Calculating sample´s embeddings\n",
            "2/2 [==============================] - 0s 6ms/step\n",
            "Estimating sample´s feature densities\n"
          ]
        }
      ],
      "execution_count": null,
      "source": [
        "fd_uncertainty_normalized, _ = fd_evaluate_model(model, x_sample, known_embeddings=train_embeddings, likelihood_method='normalized')\n",
        "\n",
        "print('Feature Densities using NORMALIZED uncertainty score for x_sample:')\n",
        "fd_uncertainty_normalized"
      ],
      "id": "8708230d258d1631"
    },
    {
      "cell_type": "code",
      "source": [
        "# Save FD uncertainties normalized\n",
        "np.save(output_dir + f'{PARTICLE}_fd_uncertainty_normalized.npy', fd_uncertainty_normalized)"
      ],
      "metadata": {
        "id": "hifkHx4m1sUm"
      },
      "execution_count": null,
      "outputs": [],
      "id": "hifkHx4m1sUm"
    },
    {
      "metadata": {
        "id": "ae9bcbb42e00cc7d"
      },
      "cell_type": "markdown",
      "source": [
        "### Generation of FD embeddings"
      ],
      "id": "ae9bcbb42e00cc7d"
    },
    {
      "metadata": {
        "id": "eba581ce0d258384"
      },
      "cell_type": "code",
      "outputs": [],
      "execution_count": null,
      "source": [
        "# from feature_densities.feature_density_evaluator import create_embeddings_model\n",
        "# embeddings_model = create_embeddings_model(model)"
      ],
      "id": "eba581ce0d258384"
    },
    {
      "metadata": {
        "id": "39d295a74f315c5"
      },
      "cell_type": "code",
      "outputs": [],
      "execution_count": null,
      "source": [
        "# train_embeddings, train_predictions = embeddings_model.predict(dataset['feats_train'])"
      ],
      "id": "39d295a74f315c5"
    },
    {
      "metadata": {
        "id": "d3314534dc025116"
      },
      "cell_type": "code",
      "outputs": [],
      "execution_count": null,
      "source": [
        "# test_embeddings, test_predictions = embeddings_model.predict(dataset['feats_val'])"
      ],
      "id": "d3314534dc025116"
    },
    {
      "metadata": {
        "id": "dd43e1e7d855bc0b"
      },
      "cell_type": "code",
      "outputs": [],
      "execution_count": null,
      "source": [
        "# !rm -r embeddings\n",
        "# !mkdir embeddings\n",
        "\n",
        "# np.save(embeddings_dir + f'{PARTICLE}_train_embeddings.npy', train_embeddings)\n",
        "# np.save(embeddings_dir + f'{PARTICLE}_train_predictions.npy', train_predictions)\n",
        "# np.save(embeddings_dir + f'{PARTICLE}_test_embeddings.npy', test_embeddings)\n",
        "# np.save(embeddings_dir + f'{PARTICLE}_test_predictions.npy', test_predictions)"
      ],
      "id": "dd43e1e7d855bc0b"
    }
  ],
  "metadata": {
    "kernelspec": {
      "display_name": "Python 3",
      "name": "python3"
    },
    "language_info": {
      "codemirror_mode": {
        "name": "ipython",
        "version": 2
      },
      "file_extension": ".py",
      "mimetype": "text/x-python",
      "name": "python",
      "nbconvert_exporter": "python",
      "pygments_lexer": "ipython2",
      "version": "2.7.6"
    },
    "colab": {
      "provenance": [],
      "gpuType": "T4",
      "include_colab_link": true
    },
    "accelerator": "GPU"
  },
  "nbformat": 4,
  "nbformat_minor": 5
}