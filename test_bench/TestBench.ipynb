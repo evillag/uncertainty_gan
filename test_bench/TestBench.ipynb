{
 "cells": [
  {
   "cell_type": "code",
   "id": "initial_id",
   "metadata": {
    "collapsed": true,
    "ExecuteTime": {
     "end_time": "2024-06-06T21:22:05.810925Z",
     "start_time": "2024-06-06T21:22:05.799926Z"
    }
   },
   "source": [
    "import numpy as np\n",
    "from keras.models import Model\n",
    "\n",
    "from test_bench import get_checkpoint_name, load_particle_datasets, subsample_dataset\n",
    "from test_bench.model import MonteCarloDropoutModel\n"
   ],
   "outputs": [],
   "execution_count": 49
  },
  {
   "metadata": {},
   "cell_type": "code",
   "source": [
    "IN_COLAB = True\n",
    "\n",
    "try:\n",
    "  import google.colab\n",
    "  # Using Google Drive\n",
    "  from google.colab import drive\n",
    "  drive.mount('/content/drive')\n",
    "  # your path to the data\n",
    "  !ls '/content/drive/MyDrive/data/rich'\n",
    "  \n",
    "  !git clone https://gitlab.com/lambda-hse/lhcb-rich-gan-uncertainty.git\n",
    "  !mv lhcb-rich-gan-uncertainty/experiments .\n",
    "  !mv lhcb-rich-gan-uncertainty/src .\n",
    "  !rm -r lhcb-rich-gan-uncertainty/\n",
    "  !rm -r sample_data/\n",
    "  !pip install tensorflow-addons\n",
    "  \n",
    "  # Dataset download and extraction\n",
    "  !unzip -qq drive/MyDrive/cern/data/rich.zip\n",
    "  \n",
    "  # Model checkpoint download and extraction\n",
    "  !unzip -qq drive/MyDrive/cern/data/checkpoints_dropout_0.01.zip  \n",
    "  \n",
    "except:\n",
    "  IN_COLAB = False  \n",
    "  \n",
    "print(f'IN_COLAB: {IN_COLAB}')"
   ],
   "id": "8953bf4723cb4b5",
   "outputs": [],
   "execution_count": null
  },
  {
   "metadata": {},
   "cell_type": "markdown",
   "source": [
    "# Test Bench for the Monte Carlo Dropout and Feature Density methods\n",
    "\n",
    "1. Select sample data\n",
    "2. Create a model\n",
    "3. Generate a single target with single inference mode\n",
    "4. Estimate MCD uncertainty\n",
    "5. Estimate FD uncertainty"
   ],
   "id": "b537f49152f44ec8"
  },
  {
   "metadata": {
    "ExecuteTime": {
     "end_time": "2024-06-06T21:22:20.304213Z",
     "start_time": "2024-06-06T21:22:20.284104Z"
    }
   },
   "cell_type": "code",
   "source": [
    "# Parameters\n",
    "PARTICLE = 'pion'\n",
    "CHECKPOINT_DP = 0.01\n",
    "DROPOUT_TYPE = 'bernoulli_structured'\n",
    "CHECKPOINT_BASE = 'checkpoints/'\n",
    "DATA_DIR = 'rich/'\n",
    "SUB_SAMPLE_PERCENT = 0.1\n",
    "\n",
    "# MCD parameters\n",
    "MCD_ENSEMBLE_SIZE = 300\n",
    "\n",
    "#FD parameters\n",
    "embeddings_dir = f'embeddings/'\n",
    "if IN_COLAB:\n",
    "    embeddings_dir = 'drive/MyDrive/Colab Notebooks/' + embeddings_dir\n"
   ],
   "id": "754279944432b7f1",
   "outputs": [],
   "execution_count": 51
  },
  {
   "metadata": {},
   "cell_type": "markdown",
   "source": "# Load data and Sample selection",
   "id": "707cd509ae0c649a"
  },
  {
   "metadata": {},
   "cell_type": "code",
   "source": "dataset = load_particle_datasets(PARTICLE, DATA_DIR)",
   "id": "73e7b604fa3d2457",
   "outputs": [],
   "execution_count": null
  },
  {
   "metadata": {},
   "cell_type": "code",
   "source": [
    "# Draw a sample of the datasets\n",
    "x_sample, y_sample = subsample_dataset(dataset['feats_val'], dataset['targets_val'], SUB_SAMPLE_PERCENT)\n",
    "x_sample.shape, y_sample.shape"
   ],
   "id": "31d95808b32bac06",
   "outputs": [],
   "execution_count": null
  },
  {
   "metadata": {},
   "cell_type": "markdown",
   "source": "# Model creation",
   "id": "605b58c1e3fc7f9"
  },
  {
   "metadata": {},
   "cell_type": "code",
   "source": [
    "model = MonteCarloDropoutModel(\n",
    "    PARTICLE,\n",
    "    dropout_rate=CHECKPOINT_DP,\n",
    "    checkpoint_dir=CHECKPOINT_BASE + get_checkpoint_name(PARTICLE, CHECKPOINT_DP, DROPOUT_TYPE),\n",
    "    debug=True\n",
    ")\n",
    "generator = model.get_generator()"
   ],
   "id": "74ff0b59fb3a914d",
   "outputs": [],
   "execution_count": null
  },
  {
   "metadata": {},
   "cell_type": "markdown",
   "source": "## Single model prediction",
   "id": "97d6eaa45996218e"
  },
  {
   "metadata": {},
   "cell_type": "code",
   "source": [
    "generator.single_model_inference_mode()\n",
    "t_generated = generator.predict(x_sample)\n",
    "t_generated"
   ],
   "id": "c6fb303dc66f661b",
   "outputs": [],
   "execution_count": null
  },
  {
   "metadata": {},
   "cell_type": "markdown",
   "source": "## MCD",
   "id": "121c68a8bd902eea"
  },
  {
   "metadata": {},
   "cell_type": "code",
   "source": [
    "from mcd.MCDEvaluator import evaluate_model\n",
    "\n",
    "mcd_uncertainty, _ =  evaluate_model(model, x_sample, MCD_ENSEMBLE_SIZE)\n",
    "mcd_uncertainty\n"
   ],
   "id": "7c719499767f5934",
   "outputs": [],
   "execution_count": null
  },
  {
   "metadata": {},
   "cell_type": "code",
   "source": "mcd_uncertainty.shape",
   "id": "363e0d79eb84e9fa",
   "outputs": [],
   "execution_count": null
  },
  {
   "metadata": {},
   "cell_type": "markdown",
   "source": "## FD",
   "id": "d7e2a5f809e9e7f1"
  },
  {
   "metadata": {},
   "cell_type": "markdown",
   "source": "### Generation of FD embeddings",
   "id": "ae9bcbb42e00cc7d"
  },
  {
   "metadata": {
    "ExecuteTime": {
     "end_time": "2024-06-06T21:18:12.535154Z",
     "start_time": "2024-06-06T21:17:07.198528Z"
    }
   },
   "cell_type": "code",
   "source": [
    "EMBEDDING_LAYER = 14\n",
    "# 1. Set the model in inference mode\n",
    "generator.single_model_inference_mode()\n",
    "\n",
    "# 2. Create a new model that exposes the layer(s) of interest\n",
    "input_layer = generator.input\n",
    "output_layer = generator.layers[EMBEDDING_LAYER].output  # Index is 14 because layer indexing starts from 0\n",
    "\n",
    "# 3. Create a `new_model` without optimizations\n",
    "embeddings_model = Model(input_layer, [output_layer, generator.output])\n",
    "print('Embeddings model created')\n",
    "print(embeddings_model.summary())\n",
    "print('-'*50)\n",
    "\n",
    "# !rm -r embeddings\n",
    "# !mkdir embeddings\n"
   ],
   "id": "eba581ce0d258384",
   "outputs": [
    {
     "name": "stdout",
     "output_type": "stream",
     "text": [
      "Embeddings model created\n",
      "Model: \"model_11\"\n",
      "_________________________________________________________________\n",
      " Layer (type)                Output Shape              Param #   \n",
      "=================================================================\n",
      " Inputs (InputLayer)         [(None, 3)]               0         \n",
      "                                                                 \n",
      " NoiseInjection (NoiseInject  (None, 67)               0         \n",
      " ion)                                                            \n",
      "                                                                 \n",
      " Layer_0/Dense (Dense)       (None, 128)               8704      \n",
      "                                                                 \n",
      " Layer_0/LeakyReLU (LeakyReL  (None, 128)              0         \n",
      " U)                                                              \n",
      "                                                                 \n",
      " Layer_0/DropoutTrain (Dropo  (None, 128)              0         \n",
      " utTrain)                                                        \n",
      "                                                                 \n",
      " Layer_1/Dense (Dense)       (None, 128)               16512     \n",
      "                                                                 \n",
      " Layer_1/LeakyReLU (LeakyReL  (None, 128)              0         \n",
      " U)                                                              \n",
      "                                                                 \n",
      " Layer_1/DropoutTrain (Dropo  (None, 128)              0         \n",
      " utTrain)                                                        \n",
      "                                                                 \n",
      " Layer_2/Dense (Dense)       (None, 128)               16512     \n",
      "                                                                 \n",
      " Layer_2/LeakyReLU (LeakyReL  (None, 128)              0         \n",
      " U)                                                              \n",
      "                                                                 \n",
      " Layer_2/DropoutTrain (Dropo  (None, 128)              0         \n",
      " utTrain)                                                        \n",
      "                                                                 \n",
      " Layer_3/Dense (Dense)       (None, 128)               16512     \n",
      "                                                                 \n",
      " Layer_3/LeakyReLU (LeakyReL  (None, 128)              0         \n",
      " U)                                                              \n",
      "                                                                 \n",
      " Layer_3/DropoutTrain (Dropo  (None, 128)              0         \n",
      " utTrain)                                                        \n",
      "                                                                 \n",
      " Layer_4/Dense (Dense)       (None, 128)               16512     \n",
      "                                                                 \n",
      " Layer_4/LeakyReLU (LeakyReL  (None, 128)              0         \n",
      " U)                                                              \n",
      "                                                                 \n",
      " Layer_4/DropoutTrain (Dropo  (None, 128)              0         \n",
      " utTrain)                                                        \n",
      "                                                                 \n",
      " DensePrediction (Dense)     (None, 5)                 645       \n",
      "                                                                 \n",
      "=================================================================\n",
      "Total params: 75,397\n",
      "Trainable params: 75,397\n",
      "Non-trainable params: 0\n",
      "_________________________________________________________________\n",
      "None\n",
      "--------------------------------------------------\n"
     ]
    }
   ],
   "execution_count": 45
  },
  {
   "metadata": {
    "ExecuteTime": {
     "end_time": "2024-06-06T21:20:44.095545Z",
     "start_time": "2024-06-06T21:18:30.635317Z"
    }
   },
   "cell_type": "code",
   "source": "train_embeddings, train_predictions = embeddings_model.predict(dataset['feats_train'])",
   "id": "39d295a74f315c5",
   "outputs": [
    {
     "name": "stdout",
     "output_type": "stream",
     "text": [
      "29636/29636 [==============================] - 91s 3ms/step\n"
     ]
    }
   ],
   "execution_count": 46
  },
  {
   "metadata": {
    "ExecuteTime": {
     "end_time": "2024-06-06T21:21:53.900291Z",
     "start_time": "2024-06-06T21:20:44.100067Z"
    }
   },
   "cell_type": "code",
   "source": "test_embeddings, test_predictions = embeddings_model.predict(dataset['feats_val'])",
   "id": "d3314534dc025116",
   "outputs": [
    {
     "name": "stdout",
     "output_type": "stream",
     "text": [
      "16479/16479 [==============================] - 51s 3ms/step\n"
     ]
    }
   ],
   "execution_count": 47
  },
  {
   "metadata": {
    "ExecuteTime": {
     "end_time": "2024-06-06T21:22:31.215180Z",
     "start_time": "2024-06-06T21:22:27.142148Z"
    }
   },
   "cell_type": "code",
   "source": [
    "np.save(embeddings_dir + f'{PARTICLE}_train_embeddings.npy', train_embeddings)\n",
    "np.save(embeddings_dir + f'{PARTICLE}_train_predictions.npy', train_predictions)\n",
    "np.save(embeddings_dir + f'{PARTICLE}_test_embeddings.npy', test_embeddings)\n",
    "np.save(embeddings_dir + f'{PARTICLE}_test_predictions.npy', test_predictions)"
   ],
   "id": "dd43e1e7d855bc0b",
   "outputs": [],
   "execution_count": 52
  },
  {
   "metadata": {},
   "cell_type": "markdown",
   "source": "### FD Uncertainty estimation",
   "id": "83a242ecd57dbec9"
  },
  {
   "metadata": {
    "ExecuteTime": {
     "end_time": "2024-06-06T21:26:40.442159Z",
     "start_time": "2024-06-06T21:26:40.426490Z"
    }
   },
   "cell_type": "code",
   "source": [
    "# train_predictions = np.load(embeddings_dir + f'{PARTICLE}_train_predictions.npy')\n",
    "# test_predictions = np.load(embeddings_dir +  f'{PARTICLE}_test_predictions.npy')\n",
    "\n",
    "print('Training data shape:', train_predictions.shape)\n",
    "print('Test data shape:', test_predictions.shape)"
   ],
   "id": "fa6ae5fd5b5d4ac7",
   "outputs": [
    {
     "name": "stdout",
     "output_type": "stream",
     "text": [
      "Training data shape: (948325, 5)\n",
      "Test data shape: (527302, 5)\n"
     ]
    }
   ],
   "execution_count": 53
  }
 ],
 "metadata": {
  "kernelspec": {
   "display_name": "Python 3",
   "language": "python",
   "name": "python3"
  },
  "language_info": {
   "codemirror_mode": {
    "name": "ipython",
    "version": 2
   },
   "file_extension": ".py",
   "mimetype": "text/x-python",
   "name": "python",
   "nbconvert_exporter": "python",
   "pygments_lexer": "ipython2",
   "version": "2.7.6"
  }
 },
 "nbformat": 4,
 "nbformat_minor": 5
}
