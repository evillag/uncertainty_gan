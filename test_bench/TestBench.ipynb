{
  "cells": [
    {
      "cell_type": "markdown",
      "metadata": {
        "id": "view-in-github",
        "colab_type": "text"
      },
      "source": [
        "<a href=\"https://colab.research.google.com/github/evillag/uncertainty_gan/blob/main/test_bench/TestBench.ipynb\" target=\"_parent\"><img src=\"https://colab.research.google.com/assets/colab-badge.svg\" alt=\"Open In Colab\"/></a>"
      ]
    },
    {
      "metadata": {
        "ExecuteTime": {
          "end_time": "2024-06-07T02:07:23.726620Z",
          "start_time": "2024-06-07T02:07:23.695479Z"
        },
        "id": "8953bf4723cb4b5",
        "outputId": "e3a3b66e-6431-4b34-f85d-500132f4a6a6",
        "colab": {
          "base_uri": "https://localhost:8080/"
        }
      },
      "cell_type": "code",
      "source": [
        "IN_COLAB = True\n",
        "\n",
        "try:\n",
        "  import google.colab\n",
        "  # Using Google Drive\n",
        "  from google.colab import drive\n",
        "  drive.mount('/content/drive')\n",
        "\n",
        "  !git clone https://github.com/evillag/uncertainty_gan.git\n",
        "  !mv uncertainty_gan/mcd .\n",
        "  !mv uncertainty_gan/feature_densities .\n",
        "  !mv uncertainty_gan/test_bench .\n",
        "  %rm -rf uncertainty_gan/\n",
        "\n",
        "  !git clone https://gitlab.com/lambda-hse/lhcb-rich-gan-uncertainty.git\n",
        "  !mv lhcb-rich-gan-uncertainty/experiments .\n",
        "  !mv lhcb-rich-gan-uncertainty/src .\n",
        "  %rm -rf lhcb-rich-gan-uncertainty/\n",
        "  %rm -rf sample_data/\n",
        "  %pip install tensorflow-addons\n",
        "\n",
        "  # Dataset download and extraction\n",
        "  !unzip -qq drive/MyDrive/cern/data/rich.zip\n",
        "\n",
        "  # Model checkpoint download and extraction\n",
        "  !unzip -qq drive/MyDrive/cern/data/checkpoints_dropout_0.01.zip\n",
        "\n",
        "  # Model embeddings download and extraction\n",
        "  !unzip -qq drive/MyDrive/cern/data/embeddings.zip\n",
        "\n",
        "except:\n",
        "  IN_COLAB = False\n",
        "\n",
        "print(f'IN_COLAB: {IN_COLAB}')"
      ],
      "id": "8953bf4723cb4b5",
      "outputs": [
        {
          "output_type": "stream",
          "name": "stdout",
          "text": [
            "Mounted at /content/drive\n",
            "Cloning into 'uncertainty_gan'...\n",
            "remote: Enumerating objects: 123, done.\u001b[K\n",
            "remote: Counting objects: 100% (123/123), done.\u001b[K\n",
            "remote: Compressing objects: 100% (101/101), done.\u001b[K\n",
            "remote: Total 123 (delta 58), reused 50 (delta 17), pack-reused 0\u001b[K\n",
            "Receiving objects: 100% (123/123), 17.33 MiB | 10.60 MiB/s, done.\n",
            "Resolving deltas: 100% (58/58), done.\n",
            "Cloning into 'lhcb-rich-gan-uncertainty'...\n",
            "remote: Enumerating objects: 210, done.\u001b[K\n",
            "remote: Total 210 (delta 0), reused 0 (delta 0), pack-reused 210 (from 1)\u001b[K\n",
            "Receiving objects: 100% (210/210), 2.94 MiB | 20.35 MiB/s, done.\n",
            "Resolving deltas: 100% (94/94), done.\n",
            "Collecting tensorflow-addons\n",
            "  Downloading tensorflow_addons-0.23.0-cp310-cp310-manylinux_2_17_x86_64.manylinux2014_x86_64.whl (611 kB)\n",
            "\u001b[2K     \u001b[90m━━━━━━━━━━━━━━━━━━━━━━━━━━━━━━━━━━━━━━━━\u001b[0m \u001b[32m611.8/611.8 kB\u001b[0m \u001b[31m8.1 MB/s\u001b[0m eta \u001b[36m0:00:00\u001b[0m\n",
            "\u001b[?25hRequirement already satisfied: packaging in /usr/local/lib/python3.10/dist-packages (from tensorflow-addons) (24.0)\n",
            "Collecting typeguard<3.0.0,>=2.7 (from tensorflow-addons)\n",
            "  Downloading typeguard-2.13.3-py3-none-any.whl (17 kB)\n",
            "Installing collected packages: typeguard, tensorflow-addons\n",
            "Successfully installed tensorflow-addons-0.23.0 typeguard-2.13.3\n",
            "IN_COLAB: True\n"
          ]
        }
      ],
      "execution_count": 1
    },
    {
      "cell_type": "code",
      "id": "initial_id",
      "metadata": {
        "collapsed": true,
        "ExecuteTime": {
          "end_time": "2024-06-07T02:07:06.215988Z",
          "start_time": "2024-06-07T02:07:03.029044Z"
        },
        "id": "initial_id"
      },
      "source": [
        "import numpy as np\n",
        "\n",
        "from test_bench import get_checkpoint_name, load_particle_datasets, subsample_dataset\n",
        "from test_bench.model import MonteCarloDropoutModel\n"
      ],
      "outputs": [],
      "execution_count": 2
    },
    {
      "metadata": {
        "id": "b537f49152f44ec8"
      },
      "cell_type": "markdown",
      "source": [
        "# Test Bench for the Monte Carlo Dropout and Feature Density methods\n",
        "\n",
        "1. Select sample data\n",
        "2. Create a model\n",
        "3. Generate a single target with single inference mode\n",
        "4. Estimate MCD uncertainty\n",
        "5. Estimate FD uncertainty"
      ],
      "id": "b537f49152f44ec8"
    },
    {
      "metadata": {
        "ExecuteTime": {
          "end_time": "2024-06-07T02:07:25.929299Z",
          "start_time": "2024-06-07T02:07:25.913657Z"
        },
        "id": "754279944432b7f1"
      },
      "cell_type": "code",
      "source": [
        "# Parameters\n",
        "PARTICLE = 'pion'\n",
        "CHECKPOINT_DP = 0.01\n",
        "DROPOUT_TYPE = 'bernoulli_structured'\n",
        "CHECKPOINT_BASE = 'checkpoints/'\n",
        "DATA_DIR = 'rich/'\n",
        "SUB_SAMPLE_PERCENT = 0.02\n",
        "\n",
        "# MCD parameters\n",
        "MCD_ENSEMBLE_SIZE = 300\n",
        "\n",
        "#FD parameters\n",
        "embeddings_dir = f'embeddings/'"
      ],
      "id": "754279944432b7f1",
      "outputs": [],
      "execution_count": 5
    },
    {
      "metadata": {
        "id": "707cd509ae0c649a"
      },
      "cell_type": "markdown",
      "source": [
        "# Load data and Sample selection"
      ],
      "id": "707cd509ae0c649a"
    },
    {
      "metadata": {
        "ExecuteTime": {
          "end_time": "2024-06-07T02:07:45.171937Z",
          "start_time": "2024-06-07T02:07:27.682283Z"
        },
        "id": "73e7b604fa3d2457",
        "outputId": "1b797b77-8f56-4bff-b478-6315ebe089f8",
        "colab": {
          "base_uri": "https://localhost:8080/"
        }
      },
      "cell_type": "code",
      "source": [
        "dataset = load_particle_datasets(PARTICLE, DATA_DIR)"
      ],
      "id": "73e7b604fa3d2457",
      "outputs": [
        {
          "output_type": "stream",
          "name": "stdout",
          "text": [
            "Reading and concatenating datasets:\n",
            "\trich/pion_-_down_2016_.csv\n",
            "\trich/pion_+_up_2016_.csv\n",
            "\trich/pion_-_up_2016_.csv\n",
            "\trich/pion2_+_down_2016_.csv\n",
            "\trich/pion2_-_up_2016_.csv\n",
            "\trich/pion_+_down_2016_.csv\n",
            "\trich/pion2_+_up_2016_.csv\n",
            "\trich/pion2_-_down_2016_.csv\n",
            "splitting to train/val/test\n",
            "fitting the scaler\n",
            "scaler train sample size: 2000000\n",
            "scaler n_quantiles: 100000, time = 2.3905060291290283\n",
            "scaling train set\n",
            "scaling test set\n",
            "converting dtype to <class 'numpy.float32'>\n",
            "feats_train shape\t(948527, 3)\n",
            "targets_train shape\t(948527, 5)\n",
            "feats_val shape  \t(526449, 3)\n",
            "targets_val shape\t(526449, 5)\n",
            "\n"
          ]
        }
      ],
      "execution_count": 4
    },
    {
      "metadata": {
        "ExecuteTime": {
          "end_time": "2024-06-07T02:07:45.715412Z",
          "start_time": "2024-06-07T02:07:45.171937Z"
        },
        "id": "31d95808b32bac06",
        "outputId": "05a020ee-44dd-4208-e219-f9b92a899096",
        "colab": {
          "base_uri": "https://localhost:8080/"
        }
      },
      "cell_type": "code",
      "source": [
        "# Draw a sample of the datasets\n",
        "x_sample, y_sample = subsample_dataset(dataset['feats_val'], dataset['targets_val'], SUB_SAMPLE_PERCENT)\n",
        "x_sample.shape, y_sample.shape"
      ],
      "id": "31d95808b32bac06",
      "outputs": [
        {
          "output_type": "execute_result",
          "data": {
            "text/plain": [
              "(TensorShape([10528, 3]), TensorShape([10528, 5]))"
            ]
          },
          "metadata": {},
          "execution_count": 6
        }
      ],
      "execution_count": 6
    },
    {
      "metadata": {
        "id": "605b58c1e3fc7f9"
      },
      "cell_type": "markdown",
      "source": [
        "# Model creation"
      ],
      "id": "605b58c1e3fc7f9"
    },
    {
      "metadata": {
        "ExecuteTime": {
          "end_time": "2024-06-07T02:07:46.915006Z",
          "start_time": "2024-06-07T02:07:45.715412Z"
        },
        "id": "74ff0b59fb3a914d",
        "outputId": "0fa80bbd-9afd-4405-b190-a26cde1bc015",
        "colab": {
          "base_uri": "https://localhost:8080/"
        }
      },
      "cell_type": "code",
      "source": [
        "model = MonteCarloDropoutModel(\n",
        "    PARTICLE,\n",
        "    dropout_rate=CHECKPOINT_DP,\n",
        "    checkpoint_dir=CHECKPOINT_BASE + get_checkpoint_name(PARTICLE, CHECKPOINT_DP, DROPOUT_TYPE),\n",
        "    debug=True\n",
        ")\n",
        "generator = model.get_generator()"
      ],
      "id": "74ff0b59fb3a914d",
      "outputs": [
        {
          "output_type": "stream",
          "name": "stdout",
          "text": [
            "Generating model for pion with a dropout rate of 0.01\n",
            "Layer 0\n",
            "Layer 1\n",
            "Layer 2\n",
            "Layer 3\n",
            "Layer 4\n",
            "\n",
            "Generator:\n",
            "\n",
            "Model: \"virtual_ensemble_model\"\n",
            "________________________________________________________________________________________________\n",
            " Layer (type)                              Output Shape                          Param #        \n",
            "================================================================================================\n",
            " Inputs (InputLayer)                       [(None, 3)]                           0              \n",
            "                                                                                                \n",
            " NoiseInjection (NoiseInjection)           (None, 67)                            0              \n",
            "                                                                                                \n",
            " Layer_0/Dense (Dense)                     (None, 128)                           8704           \n",
            "                                                                                                \n",
            " Layer_0/LeakyReLU (LeakyReLU)             (None, 128)                           0              \n",
            "                                                                                                \n",
            " Layer_0/DropoutTrain (DropoutTrain)       (None, 128)                           0              \n",
            "                                                                                                \n",
            " Layer_1/Dense (Dense)                     (None, 128)                           16512          \n",
            "                                                                                                \n",
            " Layer_1/LeakyReLU (LeakyReLU)             (None, 128)                           0              \n",
            "                                                                                                \n",
            " Layer_1/DropoutTrain (DropoutTrain)       (None, 128)                           0              \n",
            "                                                                                                \n",
            " Layer_2/Dense (Dense)                     (None, 128)                           16512          \n",
            "                                                                                                \n",
            " Layer_2/LeakyReLU (LeakyReLU)             (None, 128)                           0              \n",
            "                                                                                                \n",
            " Layer_2/DropoutTrain (DropoutTrain)       (None, 128)                           0              \n",
            "                                                                                                \n",
            " Layer_3/Dense (Dense)                     (None, 128)                           16512          \n",
            "                                                                                                \n",
            " Layer_3/LeakyReLU (LeakyReLU)             (None, 128)                           0              \n",
            "                                                                                                \n",
            " Layer_3/DropoutTrain (DropoutTrain)       (None, 128)                           0              \n",
            "                                                                                                \n",
            " Layer_4/Dense (Dense)                     (None, 128)                           16512          \n",
            "                                                                                                \n",
            " Layer_4/LeakyReLU (LeakyReLU)             (None, 128)                           0              \n",
            "                                                                                                \n",
            " Layer_4/DropoutTrain (DropoutTrain)       (None, 128)                           0              \n",
            "                                                                                                \n",
            " DensePrediction (Dense)                   (None, 5)                             645            \n",
            "                                                                                                \n",
            "================================================================================================\n",
            "Total params: 75397 (294.52 KB)\n",
            "Trainable params: 75397 (294.52 KB)\n",
            "Non-trainable params: 0 (0.00 Byte)\n",
            "________________________________________________________________________________________________\n",
            "None\n",
            "\n",
            "Discriminator:\n",
            "\n",
            "Model: \"model\"\n",
            "__________________________________________________________________________________________________\n",
            " Layer (type)                Output Shape                 Param #   Connected to                  \n",
            "==================================================================================================\n",
            " input_1 (InputLayer)        [(None, 3)]                  0         []                            \n",
            "                                                                                                  \n",
            " input_2 (InputLayer)        [(None, 5)]                  0         []                            \n",
            "                                                                                                  \n",
            " concatenate (Concatenate)   (None, 8)                    0         ['input_1[0][0]',             \n",
            "                                                                     'input_2[0][0]']             \n",
            "                                                                                                  \n",
            " sequential (Sequential)     (None, 256)                  100224    ['concatenate[0][0]']         \n",
            "                                                                                                  \n",
            "==================================================================================================\n",
            "Total params: 100224 (391.50 KB)\n",
            "Trainable params: 100224 (391.50 KB)\n",
            "Non-trainable params: 0 (0.00 Byte)\n",
            "__________________________________________________________________________________________________\n",
            "None\n",
            "\n",
            "Checkpoint path: checkpoints/bernoulli_structured_dropout_line_test_cramer_drop_rate_0.01_pion\n",
            "\n",
            "0.001\n",
            "Last ckpt:  checkpoints/bernoulli_structured_dropout_line_test_cramer_drop_rate_0.01_pion/ckpt-21\n"
          ]
        }
      ],
      "execution_count": 7
    },
    {
      "metadata": {
        "id": "97d6eaa45996218e"
      },
      "cell_type": "markdown",
      "source": [
        "## Single model prediction"
      ],
      "id": "97d6eaa45996218e"
    },
    {
      "metadata": {
        "ExecuteTime": {
          "end_time": "2024-06-07T02:07:51.210066Z",
          "start_time": "2024-06-07T02:07:46.915179Z"
        },
        "id": "c6fb303dc66f661b",
        "outputId": "985af5aa-8433-418c-d111-02e7dc1af411",
        "colab": {
          "base_uri": "https://localhost:8080/"
        }
      },
      "cell_type": "code",
      "source": [
        "generator.single_model_inference_mode()\n",
        "t_generated = generator.predict(x_sample)\n",
        "t_generated"
      ],
      "id": "c6fb303dc66f661b",
      "outputs": [
        {
          "output_type": "stream",
          "name": "stdout",
          "text": [
            "329/329 [==============================] - 5s 3ms/step\n"
          ]
        },
        {
          "output_type": "execute_result",
          "data": {
            "text/plain": [
              "array([[-0.21959116, -0.9212151 , -0.22168373, -0.7220314 , -0.81101686],\n",
              "       [ 1.1004065 , -0.8272944 ,  1.1263113 , -0.19565034,  0.22770289],\n",
              "       [ 1.0872381 , -0.47873074,  0.6419121 , -0.82812566, -1.073178  ],\n",
              "       ...,\n",
              "       [-0.11386883, -1.057545  ,  0.06267808, -0.86642975, -0.93954736],\n",
              "       [ 1.2638797 , -0.9108536 ,  1.1304615 , -0.7055115 , -0.4810682 ],\n",
              "       [ 0.4428744 ,  0.08550289,  0.2506917 , -0.36984533,  1.4528008 ]],\n",
              "      dtype=float32)"
            ]
          },
          "metadata": {},
          "execution_count": 8
        }
      ],
      "execution_count": 8
    },
    {
      "metadata": {
        "id": "121c68a8bd902eea"
      },
      "cell_type": "markdown",
      "source": [
        "## Monte Carlo Dropout method"
      ],
      "id": "121c68a8bd902eea"
    },
    {
      "metadata": {
        "ExecuteTime": {
          "end_time": "2024-06-07T02:07:56.116647Z",
          "start_time": "2024-06-07T02:07:51.210066Z"
        },
        "id": "7c719499767f5934",
        "outputId": "91ebea1a-d347-4dc9-ec24-41290907300e",
        "colab": {
          "base_uri": "https://localhost:8080/"
        }
      },
      "cell_type": "code",
      "source": [
        "from mcd.MCDEvaluator import evaluate_model as mcd_evaluate_model\n",
        "\n",
        "mcd_uncertainty, _ =  mcd_evaluate_model(model, x_sample, MCD_ENSEMBLE_SIZE)\n",
        "mcd_uncertainty\n"
      ],
      "id": "7c719499767f5934",
      "outputs": [
        {
          "output_type": "stream",
          "name": "stdout",
          "text": [
            "Generating ensemble(300) predictions\n"
          ]
        },
        {
          "output_type": "stream",
          "name": "stderr",
          "text": [
            "100%|██████████| 300/300 [00:11<00:00, 25.02it/s]\n"
          ]
        },
        {
          "output_type": "execute_result",
          "data": {
            "text/plain": [
              "<tf.Tensor: shape=(10528, 5), dtype=float32, numpy=\n",
              "array([[0.32179454, 0.56514   , 0.54485375, 0.5963936 , 0.6756564 ],\n",
              "       [0.3774602 , 0.38062468, 0.32571095, 0.4942838 , 0.82462764],\n",
              "       [0.13380627, 0.3833909 , 0.10821614, 0.6469189 , 0.7369904 ],\n",
              "       ...,\n",
              "       [0.3395108 , 0.45304912, 0.5515006 , 0.4815188 , 0.561837  ],\n",
              "       [0.3831384 , 0.4118706 , 0.42855138, 0.5131822 , 0.69099325],\n",
              "       [0.26160944, 0.27090713, 0.18020515, 0.40333822, 1.0599014 ]],\n",
              "      dtype=float32)>"
            ]
          },
          "metadata": {},
          "execution_count": 10
        }
      ],
      "execution_count": 10
    },
    {
      "metadata": {
        "ExecuteTime": {
          "end_time": "2024-06-07T02:07:56.132262Z",
          "start_time": "2024-06-07T02:07:56.116647Z"
        },
        "id": "363e0d79eb84e9fa",
        "outputId": "e94e8a96-2029-4f63-aa92-3aabbeaa28bf",
        "colab": {
          "base_uri": "https://localhost:8080/"
        }
      },
      "cell_type": "code",
      "source": [
        "mcd_uncertainty.shape"
      ],
      "id": "363e0d79eb84e9fa",
      "outputs": [
        {
          "output_type": "execute_result",
          "data": {
            "text/plain": [
              "TensorShape([10528, 5])"
            ]
          },
          "metadata": {},
          "execution_count": 11
        }
      ],
      "execution_count": 11
    },
    {
      "metadata": {
        "id": "d7e2a5f809e9e7f1"
      },
      "cell_type": "markdown",
      "source": [
        "## Feature Densities method"
      ],
      "id": "d7e2a5f809e9e7f1"
    },
    {
      "metadata": {
        "id": "83a242ecd57dbec9"
      },
      "cell_type": "markdown",
      "source": [
        "### Uncertainty estimation"
      ],
      "id": "83a242ecd57dbec9"
    },
    {
      "metadata": {
        "id": "622705127bfa96df"
      },
      "cell_type": "markdown",
      "source": [],
      "id": "622705127bfa96df"
    },
    {
      "metadata": {
        "jupyter": {
          "is_executing": true
        },
        "ExecuteTime": {
          "start_time": "2024-06-07T02:09:08.234787Z"
        },
        "id": "f5e680e33c07c6bd",
        "outputId": "8baaa4d4-be63-4354-a2ab-8d81ad81ef12",
        "colab": {
          "base_uri": "https://localhost:8080/"
        }
      },
      "cell_type": "code",
      "source": [
        "from feature_densities.feature_density_evaluator import evaluate_model as fd_evaluate_model\n",
        "\n",
        "train_embeddings = np.load(embeddings_dir + f'{PARTICLE}_train_embeddings.npy')\n",
        "print(train_embeddings.shape)\n",
        "\n",
        "fd_uncertainty, _ = fd_evaluate_model(model, x_sample, known_embeddings=train_embeddings, likelihood_method='integration')\n",
        "\n",
        "print('Feature Densities using INTEGRATION uncertainty score for x_sample:')\n",
        "fd_uncertainty"
      ],
      "id": "f5e680e33c07c6bd",
      "outputs": [
        {
          "output_type": "stream",
          "name": "stdout",
          "text": [
            "(948325, 128)\n",
            "Generating an embeddings model\n",
            "Fitting KDE functions to known embeddings\n",
            "Calculating sample´s embeddings\n",
            "329/329 [==============================] - 2s 3ms/step\n",
            "Estimating sample´s feature densities\n",
            "Calculating likelihoods with integration method\n"
          ]
        },
        {
          "output_type": "stream",
          "name": "stderr",
          "text": [
            "\r  0%|          | 0/128 [00:00<?, ?it/s]"
          ]
        }
      ],
      "execution_count": null
    },
    {
      "metadata": {
        "id": "8708230d258d1631"
      },
      "cell_type": "code",
      "outputs": [],
      "execution_count": null,
      "source": [
        "fd_uncertainty, _ = fd_evaluate_model(model, x_sample, known_embeddings=train_embeddings, likelihood_method='normalized')\n",
        "\n",
        "print('Feature Densities using NORMALIZED uncertainty score for x_sample:')\n",
        "fd_uncertainty"
      ],
      "id": "8708230d258d1631"
    },
    {
      "metadata": {
        "id": "ae9bcbb42e00cc7d"
      },
      "cell_type": "markdown",
      "source": [
        "### Generation of FD embeddings"
      ],
      "id": "ae9bcbb42e00cc7d"
    },
    {
      "metadata": {
        "id": "eba581ce0d258384"
      },
      "cell_type": "code",
      "outputs": [],
      "execution_count": null,
      "source": [
        "# from feature_densities.feature_density_evaluator import create_embeddings_model\n",
        "# embeddings_model = create_embeddings_model(model)"
      ],
      "id": "eba581ce0d258384"
    },
    {
      "metadata": {
        "id": "39d295a74f315c5"
      },
      "cell_type": "code",
      "outputs": [],
      "execution_count": null,
      "source": [
        "# train_embeddings, train_predictions = embeddings_model.predict(dataset['feats_train'])"
      ],
      "id": "39d295a74f315c5"
    },
    {
      "metadata": {
        "id": "d3314534dc025116"
      },
      "cell_type": "code",
      "outputs": [],
      "execution_count": null,
      "source": [
        "# test_embeddings, test_predictions = embeddings_model.predict(dataset['feats_val'])"
      ],
      "id": "d3314534dc025116"
    },
    {
      "metadata": {
        "id": "dd43e1e7d855bc0b"
      },
      "cell_type": "code",
      "outputs": [],
      "execution_count": null,
      "source": [
        "# !rm -r embeddings\n",
        "# !mkdir embeddings\n",
        "\n",
        "# np.save(embeddings_dir + f'{PARTICLE}_train_embeddings.npy', train_embeddings)\n",
        "# np.save(embeddings_dir + f'{PARTICLE}_train_predictions.npy', train_predictions)\n",
        "# np.save(embeddings_dir + f'{PARTICLE}_test_embeddings.npy', test_embeddings)\n",
        "# np.save(embeddings_dir + f'{PARTICLE}_test_predictions.npy', test_predictions)"
      ],
      "id": "dd43e1e7d855bc0b"
    }
  ],
  "metadata": {
    "kernelspec": {
      "display_name": "Python 3",
      "name": "python3"
    },
    "language_info": {
      "codemirror_mode": {
        "name": "ipython",
        "version": 2
      },
      "file_extension": ".py",
      "mimetype": "text/x-python",
      "name": "python",
      "nbconvert_exporter": "python",
      "pygments_lexer": "ipython2",
      "version": "2.7.6"
    },
    "colab": {
      "provenance": [],
      "gpuType": "T4",
      "include_colab_link": true
    },
    "accelerator": "GPU"
  },
  "nbformat": 4,
  "nbformat_minor": 5
}