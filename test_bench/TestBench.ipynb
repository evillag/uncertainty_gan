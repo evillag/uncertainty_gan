{
 "cells": [
  {
   "cell_type": "code",
   "id": "initial_id",
   "metadata": {
    "collapsed": true,
    "ExecuteTime": {
     "end_time": "2024-06-06T20:28:29.801424Z",
     "start_time": "2024-06-06T20:28:17.918477Z"
    }
   },
   "source": [
    "from test_bench import get_checkpoint_name, load_particle_datasets, subsample_dataset\n",
    "from test_bench.model import MonteCarloDropoutModel\n"
   ],
   "outputs": [],
   "execution_count": 1
  },
  {
   "metadata": {},
   "cell_type": "markdown",
   "source": [
    "1. Select sample data\n",
    "2. Create a model\n",
    "3. Test the model"
   ],
   "id": "b537f49152f44ec8"
  },
  {
   "metadata": {
    "ExecuteTime": {
     "end_time": "2024-06-06T20:32:20.052642Z",
     "start_time": "2024-06-06T20:32:20.040479Z"
    }
   },
   "cell_type": "code",
   "source": [
    "# Parameters\n",
    "PARTICLE = 'pion'\n",
    "CHECKPOINT_DP = 0.01\n",
    "DROPOUT_TYPE = 'bernoulli_structured'\n",
    "CHECKPOINT_BASE = 'checkpoints/'\n",
    "DATA_DIR = 'rich/'\n",
    "SUB_SAMPLE_PERCENT = 0.1\n",
    "\n",
    "# MCD parameters\n",
    "MCD_ENSEMBLE_SIZE = 300\n",
    "\n",
    "#FD parameters\n"
   ],
   "id": "754279944432b7f1",
   "outputs": [],
   "execution_count": 21
  },
  {
   "metadata": {},
   "cell_type": "markdown",
   "source": "# Load data and Sample selection",
   "id": "707cd509ae0c649a"
  },
  {
   "metadata": {
    "ExecuteTime": {
     "end_time": "2024-06-06T20:29:07.673922Z",
     "start_time": "2024-06-06T20:28:29.820053Z"
    }
   },
   "cell_type": "code",
   "source": "dataset = load_particle_datasets(PARTICLE, DATA_DIR)",
   "id": "73e7b604fa3d2457",
   "outputs": [
    {
     "name": "stdout",
     "output_type": "stream",
     "text": [
      "Reading and concatenating datasets:\n",
      "\trich\\pion2_+_down_2016_.csv\n",
      "\trich\\pion2_+_up_2016_.csv\n",
      "\trich\\pion2_-_down_2016_.csv\n",
      "\trich\\pion2_-_up_2016_.csv\n",
      "\trich\\pion_+_down_2016_.csv\n",
      "\trich\\pion_+_up_2016_.csv\n",
      "\trich\\pion_-_down_2016_.csv\n",
      "\trich\\pion_-_up_2016_.csv\n",
      "splitting to train/val/test\n",
      "fitting the scaler\n",
      "scaler train sample size: 2000000\n",
      "scaler n_quantiles: 100000, time = 2.2017691135406494\n",
      "scaling train set\n",
      "scaling test set\n",
      "converting dtype to <class 'numpy.float32'>\n",
      "feats_train shape\t(948325, 3)\n",
      "targets_train shape\t(948325, 5)\n",
      "feats_val shape  \t(527302, 3)\n",
      "targets_val shape\t(527302, 5)\n",
      "\n"
     ]
    }
   ],
   "execution_count": 3
  },
  {
   "metadata": {
    "ExecuteTime": {
     "end_time": "2024-06-06T20:29:07.751689Z",
     "start_time": "2024-06-06T20:29:07.676439Z"
    }
   },
   "cell_type": "code",
   "source": [
    "# Draw a sample of the datasets\n",
    "x_sample, y_sample = subsample_dataset(dataset['feats_val'], dataset['targets_val'], SUB_SAMPLE_PERCENT)\n",
    "x_sample.shape, y_sample.shape"
   ],
   "id": "31d95808b32bac06",
   "outputs": [
    {
     "data": {
      "text/plain": [
       "(TensorShape([52730, 3]), TensorShape([52730, 5]))"
      ]
     },
     "execution_count": 4,
     "metadata": {},
     "output_type": "execute_result"
    }
   ],
   "execution_count": 4
  },
  {
   "metadata": {},
   "cell_type": "markdown",
   "source": "# Model creation",
   "id": "605b58c1e3fc7f9"
  },
  {
   "metadata": {
    "ExecuteTime": {
     "end_time": "2024-06-06T20:29:08.974190Z",
     "start_time": "2024-06-06T20:29:07.753658Z"
    }
   },
   "cell_type": "code",
   "source": [
    "model = MonteCarloDropoutModel(\n",
    "    PARTICLE,\n",
    "    dropout_rate=CHECKPOINT_DP,\n",
    "    checkpoint_dir=CHECKPOINT_BASE + get_checkpoint_name(PARTICLE, CHECKPOINT_DP, DROPOUT_TYPE),\n",
    "    debug=True\n",
    ")\n",
    "generator = model.get_generator()"
   ],
   "id": "74ff0b59fb3a914d",
   "outputs": [
    {
     "name": "stdout",
     "output_type": "stream",
     "text": [
      "Generating model for pion with a dropout rate of 0.01\n",
      "Layer 0\n",
      "Layer 1\n",
      "Layer 2\n",
      "Layer 3\n",
      "Layer 4\n",
      "\n",
      "Generator:\n",
      "\n",
      "Model: \"virtual_ensemble_model\"\n",
      "________________________________________________________________________________________________\n",
      " Layer (type)                              Output Shape                          Param #        \n",
      "================================================================================================\n",
      " Inputs (InputLayer)                       [(None, 3)]                           0              \n",
      "                                                                                                \n",
      " NoiseInjection (NoiseInjection)           (None, 67)                            0              \n",
      "                                                                                                \n",
      " Layer_0/Dense (Dense)                     (None, 128)                           8704           \n",
      "                                                                                                \n",
      " Layer_0/LeakyReLU (LeakyReLU)             (None, 128)                           0              \n",
      "                                                                                                \n",
      " Layer_0/DropoutTrain (DropoutTrain)       (None, 128)                           0              \n",
      "                                                                                                \n",
      " Layer_1/Dense (Dense)                     (None, 128)                           16512          \n",
      "                                                                                                \n",
      " Layer_1/LeakyReLU (LeakyReLU)             (None, 128)                           0              \n",
      "                                                                                                \n",
      " Layer_1/DropoutTrain (DropoutTrain)       (None, 128)                           0              \n",
      "                                                                                                \n",
      " Layer_2/Dense (Dense)                     (None, 128)                           16512          \n",
      "                                                                                                \n",
      " Layer_2/LeakyReLU (LeakyReLU)             (None, 128)                           0              \n",
      "                                                                                                \n",
      " Layer_2/DropoutTrain (DropoutTrain)       (None, 128)                           0              \n",
      "                                                                                                \n",
      " Layer_3/Dense (Dense)                     (None, 128)                           16512          \n",
      "                                                                                                \n",
      " Layer_3/LeakyReLU (LeakyReLU)             (None, 128)                           0              \n",
      "                                                                                                \n",
      " Layer_3/DropoutTrain (DropoutTrain)       (None, 128)                           0              \n",
      "                                                                                                \n",
      " Layer_4/Dense (Dense)                     (None, 128)                           16512          \n",
      "                                                                                                \n",
      " Layer_4/LeakyReLU (LeakyReLU)             (None, 128)                           0              \n",
      "                                                                                                \n",
      " Layer_4/DropoutTrain (DropoutTrain)       (None, 128)                           0              \n",
      "                                                                                                \n",
      " DensePrediction (Dense)                   (None, 5)                             645            \n",
      "                                                                                                \n",
      "================================================================================================\n",
      "Total params: 75,397\n",
      "Trainable params: 75,397\n",
      "Non-trainable params: 0\n",
      "________________________________________________________________________________________________\n",
      "None\n",
      "\n",
      "Discriminator:\n",
      "\n",
      "Model: \"model\"\n",
      "__________________________________________________________________________________________________\n",
      " Layer (type)                   Output Shape         Param #     Connected to                     \n",
      "==================================================================================================\n",
      " input_1 (InputLayer)           [(None, 3)]          0           []                               \n",
      "                                                                                                  \n",
      " input_2 (InputLayer)           [(None, 5)]          0           []                               \n",
      "                                                                                                  \n",
      " concatenate (Concatenate)      (None, 8)            0           ['input_1[0][0]',                \n",
      "                                                                  'input_2[0][0]']                \n",
      "                                                                                                  \n",
      " sequential (Sequential)        (None, 256)          100224      ['concatenate[0][0]']            \n",
      "                                                                                                  \n",
      "==================================================================================================\n",
      "Total params: 100,224\n",
      "Trainable params: 100,224\n",
      "Non-trainable params: 0\n",
      "__________________________________________________________________________________________________\n",
      "None\n",
      "\n",
      "Checkpoint path: checkpoints/bernoulli_structured_dropout_line_test_cramer_drop_rate_0.01_pion\n",
      "\n",
      "0.001\n",
      "Last ckpt:  checkpoints/bernoulli_structured_dropout_line_test_cramer_drop_rate_0.01_pion\\ckpt-21\n"
     ]
    }
   ],
   "execution_count": 5
  },
  {
   "metadata": {},
   "cell_type": "markdown",
   "source": "## Single model prediction",
   "id": "97d6eaa45996218e"
  },
  {
   "metadata": {
    "ExecuteTime": {
     "end_time": "2024-06-06T20:29:14.725770Z",
     "start_time": "2024-06-06T20:29:08.978193Z"
    }
   },
   "cell_type": "code",
   "source": [
    "generator.single_model_inference_mode()\n",
    "t_generated = generator.predict(x_sample)\n",
    "t_generated"
   ],
   "id": "c6fb303dc66f661b",
   "outputs": [
    {
     "name": "stdout",
     "output_type": "stream",
     "text": [
      "1648/1648 [==============================] - 5s 2ms/step\n"
     ]
    },
    {
     "data": {
      "text/plain": [
       "array([[-1.6650505 , -0.49477583, -2.0765963 , -0.3902473 , -0.42617923],\n",
       "       [ 1.9638599 , -1.3240287 ,  1.6830475 , -1.2790949 , -1.3487611 ],\n",
       "       [ 1.1652783 ,  0.29276836,  0.6128771 ,  0.5450657 ,  0.46852428],\n",
       "       ...,\n",
       "       [-0.661861  , -0.8433812 , -0.77467686, -0.7675832 , -0.80289394],\n",
       "       [ 0.99369395,  1.0196021 ,  0.3390171 ,  0.8842587 , -0.13664594],\n",
       "       [-0.7586589 , -1.2008123 , -0.6705921 , -0.85414964, -0.9172192 ]],\n",
       "      dtype=float32)"
      ]
     },
     "execution_count": 6,
     "metadata": {},
     "output_type": "execute_result"
    }
   ],
   "execution_count": 6
  },
  {
   "metadata": {},
   "cell_type": "markdown",
   "source": "## MCD",
   "id": "121c68a8bd902eea"
  },
  {
   "metadata": {
    "ExecuteTime": {
     "end_time": "2024-06-06T20:34:32.151151Z",
     "start_time": "2024-06-06T20:33:43.096015Z"
    }
   },
   "cell_type": "code",
   "source": [
    "from mcd.MCDEvaluator import evaluate_model\n",
    "\n",
    "mcd_uncertainty, _ =  evaluate_model(model, x_sample, MCD_ENSEMBLE_SIZE)\n",
    "mcd_uncertainty\n"
   ],
   "id": "7c719499767f5934",
   "outputs": [
    {
     "name": "stdout",
     "output_type": "stream",
     "text": [
      "Generating ensemble(300) predictions\n"
     ]
    },
    {
     "name": "stderr",
     "output_type": "stream",
     "text": [
      "100%|██████████| 300/300 [00:48<00:00,  6.14it/s]\n"
     ]
    },
    {
     "data": {
      "text/plain": [
       "<tf.Tensor: shape=(52730, 5), dtype=float32, numpy=\n",
       "array([[0.2775522 , 0.386676  , 0.46374527, 0.39949757, 0.41708624],\n",
       "       [0.34652832, 0.31579727, 0.32353157, 0.5058358 , 0.8578255 ],\n",
       "       [0.31684008, 0.4330985 , 0.29499567, 0.48364782, 0.6793873 ],\n",
       "       ...,\n",
       "       [0.36786205, 0.4133227 , 0.58486474, 0.4431895 , 0.51973313],\n",
       "       [0.0923771 , 0.33238778, 0.07875585, 0.4219105 , 0.5567071 ],\n",
       "       [0.434161  , 0.54707956, 0.64875007, 0.5411884 , 0.5764225 ]],\n",
       "      dtype=float32)>"
      ]
     },
     "execution_count": 24,
     "metadata": {},
     "output_type": "execute_result"
    }
   ],
   "execution_count": 24
  },
  {
   "metadata": {
    "ExecuteTime": {
     "end_time": "2024-06-06T20:34:32.182287Z",
     "start_time": "2024-06-06T20:34:32.157675Z"
    }
   },
   "cell_type": "code",
   "source": "mcd_uncertainty.shape",
   "id": "363e0d79eb84e9fa",
   "outputs": [
    {
     "data": {
      "text/plain": [
       "TensorShape([52730, 5])"
      ]
     },
     "execution_count": 25,
     "metadata": {},
     "output_type": "execute_result"
    }
   ],
   "execution_count": 25
  },
  {
   "metadata": {},
   "cell_type": "markdown",
   "source": "## FD",
   "id": "d7e2a5f809e9e7f1"
  },
  {
   "metadata": {},
   "cell_type": "code",
   "outputs": [],
   "execution_count": null,
   "source": "",
   "id": "eba581ce0d258384"
  }
 ],
 "metadata": {
  "kernelspec": {
   "display_name": "Python 3",
   "language": "python",
   "name": "python3"
  },
  "language_info": {
   "codemirror_mode": {
    "name": "ipython",
    "version": 2
   },
   "file_extension": ".py",
   "mimetype": "text/x-python",
   "name": "python",
   "nbconvert_exporter": "python",
   "pygments_lexer": "ipython2",
   "version": "2.7.6"
  }
 },
 "nbformat": 4,
 "nbformat_minor": 5
}
