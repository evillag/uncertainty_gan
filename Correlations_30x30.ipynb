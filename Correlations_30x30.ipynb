{
  "nbformat": 4,
  "nbformat_minor": 0,
  "metadata": {
    "colab": {
      "provenance": []
    },
    "kernelspec": {
      "name": "python3",
      "display_name": "Python 3"
    },
    "language_info": {
      "name": "python"
    }
  },
  "cells": [
    {
      "cell_type": "code",
      "execution_count": null,
      "metadata": {
        "colab": {
          "base_uri": "https://localhost:8080/"
        },
        "id": "ged7nl71iweK",
        "outputId": "da837dc7-919a-4fc5-f745-550145cd6fb3"
      },
      "outputs": [
        {
          "output_type": "stream",
          "name": "stdout",
          "text": [
            "Mounted at /content/drive\n"
          ]
        }
      ],
      "source": [
        "from google.colab import drive\n",
        "drive.mount('/content/drive')"
      ]
    },
    {
      "cell_type": "code",
      "source": [
        "import numpy as np\n",
        "import tensorflow as tf\n",
        "\n",
        "\n",
        "DLL_COLUMNS = ['RichDLLe', 'RichDLLk', 'RichDLLmu', 'RichDLLp', 'RichDLLbt']\n",
        "PARTICLE = 'pion'\n",
        "\n",
        "!unzip -qq '/content/drive/MyDrive/cern/data/results/30x30/dp_0.01/2024-oct-04/pion_sample_30x30.zip'\n",
        "y_sample = np.load('/content/results/pion_y_real.npy')\n",
        "x_sample = np.load('/content/results/pion_x_real.npy')\n",
        "t_generated = np.load('/content/results/t_generated.npy')"
      ],
      "metadata": {
        "id": "rWmJ_NzzF23i"
      },
      "execution_count": null,
      "outputs": []
    },
    {
      "cell_type": "code",
      "source": [
        "# output_dir = '/content/drive/MyDrive/cern/data/results/30x30/article_results/'\n",
        "\n",
        "# x_sample = np.load(output_dir + f'{PARTICLE}_x_real.npy')\n",
        "# x_sample_orig = np.load(output_dir + f'{PARTICLE}_x_real_orig.npy')\n",
        "# y_sample = np.load(output_dir + f'{PARTICLE}_y_real.npy')\n",
        "# y_sample_orig = np.load(output_dir + f'{PARTICLE}_y_real_orig.npy')\n",
        "# t_generated = np.load(output_dir + f'{PARTICLE}_t_generated.npy')\n",
        "\n",
        "# mcd_all_uncertainties = np.load(output_dir + f'{PARTICLE}_mcd_uncertainty_dp_0.1.npy')\n",
        "# fd_uncertainty_normalized = np.load(output_dir + f'{PARTICLE}_fd_uncertainty_layer_8.npy')"
      ],
      "metadata": {
        "id": "kk_3gnH7Rsha"
      },
      "execution_count": null,
      "outputs": []
    },
    {
      "cell_type": "code",
      "source": [
        "from scipy.spatial.distance import jensenshannon\n",
        "from scipy.stats import linregress, kstest\n",
        "\n",
        "\n",
        "def estimate_distances(y_real, y_generated, uncertainty_scores, uncertainty_type = None, bin_type = 'linear',\n",
        "                                                 particle_index = 0, metric='JS', n_rows = 2, n_cols = 5, dll_columns=DLL_COLUMNS):\n",
        "  n_bins = n_rows * n_cols\n",
        "\n",
        "  targets = np.array(y_real[:, particle_index])\n",
        "  predictions = np.array(y_generated[:, particle_index])\n",
        "  uncertainty_scores = np.array(uncertainty_scores)\n",
        "\n",
        "  if uncertainty_type == 'MCD':\n",
        "    uncertainty_scores = uncertainty_scores[:, particle_index]\n",
        "\n",
        "  if bin_type == 'linear':\n",
        "    bin_edges = np.linspace(uncertainty_scores.min(), uncertainty_scores.max(), n_bins + 1)\n",
        "  else: # Quantiles\n",
        "    bin_edges = np.quantile(uncertainty_scores, np.linspace(0, 1, n_bins + 1))\n",
        "\n",
        "  # Digitize returns sample indices per bin\n",
        "  bin_indices = np.digitize(uncertainty_scores, bin_edges)\n",
        "\n",
        "\n",
        "\n",
        "  distances = []\n",
        "\n",
        "  for i in range(10):\n",
        "    indices = bin_indices == i + 1\n",
        "\n",
        "    mins = targets[indices].min(), predictions[indices].min()\n",
        "    maxs = targets[indices].max(), predictions[indices].max()\n",
        "\n",
        "    hist_range = min(mins), max(maxs)\n",
        "\n",
        "    targets_hist = np.histogram(targets[indices], 25, hist_range, True)[0]\n",
        "    predictions_hist = np.histogram(\n",
        "        predictions[indices], 25, hist_range, True)[0]\n",
        "\n",
        "\n",
        "    if metric == 'JS':\n",
        "      dist = jensenshannon(predictions_hist, targets_hist)\n",
        "    else:\n",
        "      dist = kstest(predictions[indices], targets[indices]).statistic\n",
        "\n",
        "\n",
        "    distances += [dist]\n",
        "\n",
        "\n",
        "  #print(f\"{metric} Distances:\\n\" + \", \".join([str(dist) for dist in distances]))\n",
        "\n",
        "  return bin_edges, distances\n",
        "\n",
        "\n",
        "def estimate_correlation(all_bin_ranges, all_distances, dll_columns=DLL_COLUMNS):\n",
        "\n",
        "  correlation_coefficient = []\n",
        "  for i in range(5):\n",
        "    bin_ranges = np.mean([all_bin_ranges[i][1:], all_bin_ranges[i][:-1]], 0)\n",
        "    regress = linregress(bin_ranges, all_distances[i])\n",
        "    correlation_coefficient += [regress.rvalue]\n",
        "    #print(f'Correlation coefficient for {dll_columns[i]}:', regress.rvalue)\n",
        "\n",
        "  return correlation_coefficient"
      ],
      "metadata": {
        "id": "BkbqAN8yjV8j"
      },
      "execution_count": null,
      "outputs": []
    },
    {
      "cell_type": "code",
      "source": [
        "import pandas as pd\n",
        "\n",
        "def calculate_stats(all_correlations, columns):\n",
        "    df = pd.DataFrame(all_correlations, columns=columns)\n",
        "\n",
        "    means = df.mean(axis=0)\n",
        "    stds = df.std(axis=0)\n",
        "    df.loc['Mean'] = means\n",
        "    df.loc['Std'] = stds\n",
        "\n",
        "    print(df)"
      ],
      "metadata": {
        "id": "oQ0VElMijWl7"
      },
      "execution_count": null,
      "outputs": []
    },
    {
      "cell_type": "code",
      "source": [
        "def calculate_correlations(metric, uncertainty_type, uncertainty_data, N = 30):\n",
        "    all_correlations = []\n",
        "\n",
        "    for j in range(N):\n",
        "        all_bin_edges, all_distances = [], []\n",
        "        for i in range(5):\n",
        "            bin_edges, distances = estimate_distances(\n",
        "                y_sample, t_generated, uncertainty_data[j],\n",
        "                uncertainty_type=uncertainty_type, bin_type='quantiles',\n",
        "                particle_index=i, metric=metric\n",
        "            )\n",
        "\n",
        "            all_bin_edges += [bin_edges]\n",
        "            all_distances += [distances]\n",
        "\n",
        "        all_correlations.append(estimate_correlation(all_bin_edges, all_distances))\n",
        "\n",
        "    return all_correlations\n"
      ],
      "metadata": {
        "id": "jHKcAdb4kI1J"
      },
      "execution_count": null,
      "outputs": []
    },
    {
      "cell_type": "markdown",
      "source": [
        "# FD"
      ],
      "metadata": {
        "id": "hFFi9p6ylFTs"
      }
    },
    {
      "cell_type": "markdown",
      "source": [
        "## Load data"
      ],
      "metadata": {
        "id": "wguuRiuan97S"
      }
    },
    {
      "cell_type": "markdown",
      "source": [
        "### LAYER 1"
      ],
      "metadata": {
        "id": "j354j9rBgfjO"
      }
    },
    {
      "cell_type": "code",
      "source": [
        "dir = '/content/drive/MyDrive/cern/data/results/30x30/dp_0.01/2024-nov-04/layer_2/'\n",
        "fd_uncertainty_normalized = np.load(dir + f'{PARTICLE}_fd_uncertainty.npy')"
      ],
      "metadata": {
        "id": "JuIF5FBYgiNI"
      },
      "execution_count": null,
      "outputs": []
    },
    {
      "cell_type": "markdown",
      "source": [
        "### LAYER 3"
      ],
      "metadata": {
        "id": "NIZdw2HIiDgG"
      }
    },
    {
      "cell_type": "code",
      "source": [
        "dir = '/content/drive/MyDrive/cern/data/results/30x30/dp_0.01/2024-nov-04/layer_8/'\n",
        "fd_uncertainty_normalized = np.load(dir + f'{PARTICLE}_fd_uncertainty.npy')"
      ],
      "metadata": {
        "id": "6lGynUEXiDtp"
      },
      "execution_count": null,
      "outputs": []
    },
    {
      "cell_type": "markdown",
      "source": [
        "### LAYER 5"
      ],
      "metadata": {
        "id": "v_hH3UnBiupk"
      }
    },
    {
      "cell_type": "code",
      "source": [
        "dir = '/content/drive/MyDrive/cern/data/results/30x30/dp_0.01/2024-nov-04/layer_14/'\n",
        "fd_uncertainty_normalized = np.load(dir + f'{PARTICLE}_fd_uncertainty.npy')"
      ],
      "metadata": {
        "id": "MROa8affiyrr"
      },
      "execution_count": null,
      "outputs": []
    },
    {
      "cell_type": "markdown",
      "source": [
        "## Features Densities with JS"
      ],
      "metadata": {
        "id": "PHRQQRb9lDOO"
      }
    },
    {
      "cell_type": "code",
      "source": [
        "all_correlations = calculate_correlations('JS', 'FD', fd_uncertainty_normalized)\n",
        "calculate_stats(all_correlations, DLL_COLUMNS)"
      ],
      "metadata": {
        "colab": {
          "base_uri": "https://localhost:8080/"
        },
        "id": "TlmXLKzflHnK",
        "outputId": "1bf24f22-f422-428f-cb1a-3849740a962a"
      },
      "execution_count": null,
      "outputs": [
        {
          "output_type": "stream",
          "name": "stdout",
          "text": [
            "      RichDLLe  RichDLLk  RichDLLmu  RichDLLp  RichDLLbt\n",
            "0     0.988396  0.966197   0.972063  0.920595   0.768379\n",
            "1     0.989796  0.967776   0.968580  0.927795   0.808414\n",
            "2     0.990678  0.974766   0.969802  0.906766   0.821514\n",
            "3     0.988707  0.970598   0.971211  0.909221   0.851280\n",
            "4     0.991147  0.974445   0.980492  0.932459   0.927631\n",
            "5     0.990946  0.976468   0.978448  0.934330   0.804656\n",
            "6     0.989244  0.968711   0.976016  0.917928   0.804315\n",
            "7     0.991505  0.971764   0.977016  0.925046   0.780437\n",
            "8     0.988052  0.975684   0.981953  0.928195   0.791981\n",
            "9     0.987991  0.973822   0.972081  0.932017   0.813672\n",
            "10    0.986004  0.969187   0.972439  0.940282   0.833704\n",
            "11    0.988156  0.971939   0.971341  0.907400   0.762467\n",
            "12    0.987106  0.975337   0.975296  0.908177   0.807271\n",
            "13    0.987739  0.975786   0.968455  0.918111   0.884675\n",
            "14    0.988333  0.963906   0.967193  0.937142   0.844586\n",
            "15    0.991983  0.975955   0.978617  0.915907   0.880294\n",
            "16    0.988886  0.969793   0.973780  0.925323   0.855832\n",
            "17    0.980021  0.973089   0.955376  0.926857   0.793802\n",
            "18    0.989894  0.967402   0.972462  0.925060   0.871042\n",
            "19    0.988864  0.971381   0.973848  0.916846   0.796738\n",
            "20    0.986733  0.973420   0.976959  0.926172   0.788939\n",
            "21    0.986636  0.975542   0.971436  0.910411   0.832301\n",
            "22    0.987187  0.975550   0.975675  0.935150   0.921068\n",
            "23    0.989371  0.973602   0.971881  0.902358   0.787283\n",
            "24    0.984985  0.974457   0.962972  0.919649   0.935625\n",
            "25    0.988095  0.977944   0.974304  0.930212   0.823617\n",
            "26    0.986015  0.978540   0.974018  0.922502   0.920820\n",
            "27    0.988247  0.976374   0.978721  0.919271   0.855690\n",
            "28    0.985286  0.970005   0.974772  0.913113   0.798701\n",
            "29    0.987947  0.972539   0.986146  0.931252   0.910154\n",
            "Mean  0.988132  0.972733   0.973445  0.922185   0.835896\n",
            "Std   0.002342  0.003611   0.005768  0.010004   0.050398\n"
          ]
        }
      ]
    },
    {
      "cell_type": "markdown",
      "source": [
        "## Features Densities with KS"
      ],
      "metadata": {
        "id": "ohyZ2fR-lzJa"
      }
    },
    {
      "cell_type": "code",
      "source": [
        "all_correlations = calculate_correlations('KS', 'FD', fd_uncertainty_normalized)\n",
        "calculate_stats(all_correlations, DLL_COLUMNS)"
      ],
      "metadata": {
        "colab": {
          "base_uri": "https://localhost:8080/"
        },
        "id": "253GqXaEl3-p",
        "outputId": "876c3090-8fa4-4c10-d04b-e060ef8f7a4a"
      },
      "execution_count": null,
      "outputs": [
        {
          "output_type": "stream",
          "name": "stdout",
          "text": [
            "      RichDLLe  RichDLLk  RichDLLmu  RichDLLp  RichDLLbt\n",
            "0     0.937474  0.971874   0.899581  0.945033   0.795220\n",
            "1     0.932370  0.972926   0.892362  0.946502   0.770138\n",
            "2     0.941086  0.976361   0.892466  0.955092   0.845413\n",
            "3     0.935351  0.975132   0.898662  0.948513   0.804707\n",
            "4     0.931539  0.973553   0.901787  0.954589   0.825879\n",
            "5     0.933629  0.976351   0.899757  0.945310   0.745675\n",
            "6     0.950056  0.974153   0.912154  0.946999   0.795216\n",
            "7     0.929069  0.975687   0.891324  0.949441   0.786553\n",
            "8     0.936226  0.975586   0.903162  0.950674   0.800482\n",
            "9     0.940208  0.975497   0.908687  0.952567   0.785891\n",
            "10    0.944780  0.970470   0.906288  0.945871   0.750775\n",
            "11    0.938372  0.973499   0.904857  0.949620   0.840753\n",
            "12    0.941949  0.973706   0.906070  0.948416   0.849281\n",
            "13    0.939079  0.973379   0.898531  0.946652   0.792047\n",
            "14    0.940305  0.973977   0.906638  0.947282   0.804320\n",
            "15    0.936220  0.975127   0.906935  0.951764   0.802737\n",
            "16    0.941956  0.973905   0.915355  0.946538   0.756448\n",
            "17    0.949286  0.971927   0.905491  0.944721   0.800476\n",
            "18    0.939005  0.975960   0.904210  0.952397   0.836095\n",
            "19    0.945529  0.970232   0.907914  0.947117   0.794061\n",
            "20    0.941216  0.976803   0.906745  0.951924   0.839331\n",
            "21    0.937838  0.976145   0.901976  0.951343   0.801730\n",
            "22    0.936599  0.973877   0.894480  0.951701   0.832974\n",
            "23    0.931345  0.975288   0.895666  0.951733   0.809301\n",
            "24    0.932275  0.975455   0.896583  0.945485   0.846399\n",
            "25    0.937873  0.977867   0.909439  0.950162   0.806110\n",
            "26    0.937179  0.975484   0.908068  0.947864   0.857985\n",
            "27    0.932498  0.974400   0.899311  0.945897   0.849672\n",
            "28    0.928743  0.974769   0.882191  0.944807   0.800953\n",
            "29    0.943531  0.976863   0.903856  0.948052   0.818385\n",
            "Mean  0.938086  0.974542   0.902018  0.948802   0.808167\n",
            "Std   0.005417  0.001822   0.007057  0.002998   0.029909\n"
          ]
        }
      ]
    },
    {
      "cell_type": "markdown",
      "source": [
        "# MCD"
      ],
      "metadata": {
        "id": "s34o5S4NltMH"
      }
    },
    {
      "cell_type": "markdown",
      "source": [
        "## Load data"
      ],
      "metadata": {
        "id": "4MvEg2QdmB7G"
      }
    },
    {
      "cell_type": "markdown",
      "source": [
        "### DROPOUT 0.05"
      ],
      "metadata": {
        "id": "Wch9yBXDb31A"
      }
    },
    {
      "cell_type": "code",
      "source": [
        "dir = '/content/drive/MyDrive/cern/data/results/30x30/dp_0.05/2024-oct-20/'\n",
        "\n",
        "mcd_all_uncertainties  = np.load(dir + f'{PARTICLE}_mcd_uncertainty.npy')"
      ],
      "metadata": {
        "id": "OW02LU-pb2Jk"
      },
      "execution_count": null,
      "outputs": []
    },
    {
      "cell_type": "markdown",
      "source": [
        "### DROPOUT 0.01"
      ],
      "metadata": {
        "id": "2jCOyJuadn6_"
      }
    },
    {
      "cell_type": "code",
      "source": [
        "!unzip -qq '/content/drive/MyDrive/cern/data/results/30x30/dp_0.01/2024-oct-04/pion_uncertainty_30x30_reps.zip'\n",
        "mcd_all_uncertainties  = np.load('/content/' + f'{PARTICLE}_mcd_uncertainty_30_reps.npy')"
      ],
      "metadata": {
        "colab": {
          "base_uri": "https://localhost:8080/"
        },
        "id": "lJ7-NUNrdrRd",
        "outputId": "1e8de672-e23e-4885-c1ba-1c3ab1fca591"
      },
      "execution_count": null,
      "outputs": [
        {
          "output_type": "stream",
          "name": "stdout",
          "text": [
            "replace pion_mcd_uncertainty_30_reps.npy? [y]es, [n]o, [A]ll, [N]one, [r]ename: N\n"
          ]
        }
      ]
    },
    {
      "cell_type": "markdown",
      "source": [
        "### DROPOUT 0.1"
      ],
      "metadata": {
        "id": "gUq_Og_wdurC"
      }
    },
    {
      "cell_type": "code",
      "source": [
        "dir = '/content/drive/MyDrive/cern/data/results/30x30/dp_0.1/2024-oct-18/'\n",
        "\n",
        "mcd_all_uncertainties  = np.load(dir + f'{PARTICLE}_mcd_uncertainty.npy')"
      ],
      "metadata": {
        "id": "MInCgA0RduM3"
      },
      "execution_count": null,
      "outputs": []
    },
    {
      "cell_type": "markdown",
      "source": [
        "## MCD with JS"
      ],
      "metadata": {
        "id": "DO3bGlqMl9m5"
      }
    },
    {
      "cell_type": "code",
      "source": [
        "all_correlations = calculate_correlations('JS', 'MCD', mcd_all_uncertainties)\n",
        "calculate_stats(all_correlations, DLL_COLUMNS)"
      ],
      "metadata": {
        "colab": {
          "base_uri": "https://localhost:8080/"
        },
        "id": "6YznqgiBmCO-",
        "outputId": "8c6ef9f5-3e8a-43c2-baff-60f6da99d2f1"
      },
      "execution_count": null,
      "outputs": [
        {
          "output_type": "stream",
          "name": "stdout",
          "text": [
            "      RichDLLe  RichDLLk  RichDLLmu  RichDLLp  RichDLLbt\n",
            "0     0.931712  0.892428   0.927162  0.981013   0.752428\n",
            "1     0.932801  0.913138   0.942275  0.985214   0.747845\n",
            "2     0.915555  0.909380   0.965178  0.971393   0.769795\n",
            "3     0.923141  0.897347   0.977387  0.991940   0.742450\n",
            "4     0.922550  0.913731   0.960804  0.968792   0.809786\n",
            "5     0.908788  0.906154   0.946164  0.971405   0.776485\n",
            "6     0.926276  0.917019   0.972417  0.986013   0.809021\n",
            "7     0.930464  0.901918   0.980704  0.984468   0.736220\n",
            "8     0.926601  0.899143   0.927712  0.976093   0.775351\n",
            "9     0.932433  0.907352   0.971200  0.986352   0.768836\n",
            "10    0.930012  0.897800   0.954017  0.978606   0.804160\n",
            "11    0.933869  0.906648   0.933330  0.987977   0.795520\n",
            "12    0.948315  0.905112   0.848564  0.987393   0.743769\n",
            "13    0.952713  0.906916   0.927898  0.976741   0.862072\n",
            "14    0.943223  0.911184   0.976087  0.992929   0.723222\n",
            "15    0.932740  0.910928   0.898221  0.984948   0.801496\n",
            "16    0.949656  0.903927   0.974955  0.981735   0.700338\n",
            "17    0.940968  0.902719   0.929642  0.982738   0.788196\n",
            "18    0.927123  0.905570   0.959727  0.985302   0.732748\n",
            "19    0.933494  0.893749   0.949430  0.974279   0.717174\n",
            "20    0.940211  0.915618   0.976605  0.990317   0.765009\n",
            "21    0.946572  0.913235   0.906637  0.986197   0.822901\n",
            "22    0.932807  0.910619   0.924458  0.990613   0.727972\n",
            "23    0.951459  0.907676   0.974358  0.984261   0.733642\n",
            "24    0.948888  0.895671   0.941012  0.986107   0.736686\n",
            "25    0.934017  0.911454   0.919811  0.987962   0.824890\n",
            "26    0.922254  0.911596   0.963025  0.985278   0.830491\n",
            "27    0.932861  0.906352   0.989222  0.989002   0.793378\n",
            "28    0.961362  0.909150   0.982111  0.982613   0.770660\n",
            "29    0.927015  0.903418   0.927417  0.981767   0.760685\n",
            "Mean  0.934663  0.906232   0.947584  0.983315   0.770774\n",
            "Std   0.011756  0.006448   0.030822  0.006202   0.038824\n"
          ]
        }
      ]
    },
    {
      "cell_type": "markdown",
      "source": [
        "## MCD with KS"
      ],
      "metadata": {
        "id": "skERS5d2mUh7"
      }
    },
    {
      "cell_type": "code",
      "source": [
        "all_correlations = calculate_correlations('KS', 'MCD', mcd_all_uncertainties)\n",
        "calculate_stats(all_correlations, DLL_COLUMNS)"
      ],
      "metadata": {
        "colab": {
          "base_uri": "https://localhost:8080/"
        },
        "id": "hLA4cPtAmTDM",
        "outputId": "aa0fc492-9ea7-4c47-d457-c8dfc98ce621"
      },
      "execution_count": null,
      "outputs": [
        {
          "output_type": "stream",
          "name": "stdout",
          "text": [
            "      RichDLLe  RichDLLk  RichDLLmu  RichDLLp  RichDLLbt\n",
            "0     0.900017  0.894222   0.897238  0.967978   0.616516\n",
            "1     0.897940  0.917895   0.990227  0.978043   0.658763\n",
            "2     0.878441  0.907950   0.983142  0.956923   0.631530\n",
            "3     0.884357  0.901341   0.950946  0.979883   0.606102\n",
            "4     0.895306  0.915214   0.995029  0.948828   0.681325\n",
            "5     0.843513  0.907032   0.988540  0.956222   0.641202\n",
            "6     0.878221  0.922935   0.970313  0.976142   0.672499\n",
            "7     0.870327  0.908059   0.985194  0.972894   0.638253\n",
            "8     0.829179  0.903771   0.969962  0.963994   0.664239\n",
            "9     0.842508  0.907928   0.994250  0.973793   0.667476\n",
            "10    0.893678  0.898061   0.901402  0.960095   0.657557\n",
            "11    0.842354  0.914866   0.900312  0.978566   0.640179\n",
            "12    0.938817  0.911381   0.888018  0.973989   0.605006\n",
            "13    0.922875  0.908213   0.990911  0.959045   0.767105\n",
            "14    0.862864  0.915870   0.967733  0.983107   0.597293\n",
            "15    0.890918  0.913653   0.942021  0.970654   0.667908\n",
            "16    0.929453  0.906547   0.945509  0.966433   0.599673\n",
            "17    0.885985  0.906916   0.973989  0.969227   0.680214\n",
            "18    0.836765  0.902521   0.914998  0.969552   0.611380\n",
            "19    0.778655  0.888880   0.981097  0.957176   0.576153\n",
            "20    0.927298  0.918319   0.995274  0.979587   0.644054\n",
            "21    0.926205  0.915767   0.868809  0.976083   0.746374\n",
            "22    0.827415  0.908648   0.969388  0.976917   0.621603\n",
            "23    0.877513  0.915130   0.947001  0.971066   0.621811\n",
            "24    0.938331  0.896721   0.981982  0.972148   0.619530\n",
            "25    0.879915  0.914783   0.971519  0.975393   0.696294\n",
            "26    0.803370  0.914865   0.957475  0.974250   0.685146\n",
            "27    0.907840  0.912510   0.941281  0.978511   0.679981\n",
            "28    0.936116  0.911306   0.969558  0.970745   0.661309\n",
            "29    0.889294  0.906583   0.983140  0.969218   0.666391\n",
            "Mean  0.880516  0.908930   0.957209  0.970215   0.650762\n",
            "Std   0.041001  0.007706   0.035768  0.008370   0.042168\n"
          ]
        }
      ]
    }
  ]
}