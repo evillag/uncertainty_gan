{
 "nbformat": 4,
 "nbformat_minor": 0,
 "metadata": {
  "colab": {
   "provenance": []
  },
  "kernelspec": {
   "name": "python3",
   "display_name": "Python 3 (ipykernel)",
   "language": "python"
  },
  "language_info": {
   "name": "python"
  }
 },
 "cells": [
  {
   "metadata": {
    "ExecuteTime": {
     "end_time": "2024-12-14T22:49:25.673351Z",
     "start_time": "2024-12-14T22:49:24.676675Z"
    }
   },
   "cell_type": "code",
   "source": [
    "import numpy as np\n",
    "import pandas as pd\n",
    "\n",
    "from scipy.spatial.distance import jensenshannon\n",
    "from scipy.stats import linregress, kstest"
   ],
   "outputs": [],
   "execution_count": 1
  },
  {
   "metadata": {},
   "cell_type": "markdown",
   "source": "# Parameters"
  },
  {
   "cell_type": "code",
   "source": [
    "DLL_COLUMNS = ['RichDLLe', 'RichDLLk', 'RichDLLmu', 'RichDLLp', 'RichDLLbt']\n",
    "PARTICLE = 'pion'\n",
    "output_dir = 'results'\n",
    "run_date = '2024-dec-14'\n",
    "output_dir_base = f'{output_dir}/{run_date}/layer'\n",
    "\n",
    "# !unzip -qq '/content/drive/MyDrive/cern/data/results/30x30/dp_0.01/2024-oct-04/pion_sample_30x30.zip'\n",
    "# y_sample = np.load('/content/results/pion_y_real.npy')\n",
    "# x_sample = np.load('/content/results/pion_x_real.npy')\n",
    "# t_generated = np.load('/content/results/t_generated.npy')"
   ],
   "metadata": {
    "id": "rWmJ_NzzF23i",
    "ExecuteTime": {
     "end_time": "2024-12-14T22:49:26.812908Z",
     "start_time": "2024-12-14T22:49:26.808432Z"
    }
   },
   "outputs": [],
   "execution_count": 2
  },
  {
   "metadata": {},
   "cell_type": "markdown",
   "source": "# Functions"
  },
  {
   "cell_type": "code",
   "source": [
    "def estimate_distances(y_real, y_generated, uncertainty_scores, uncertainty_type = None, bin_type = 'linear',\n",
    "                                                 particle_index = 0, metric='JS', n_rows = 2, n_cols = 5, dll_columns=DLL_COLUMNS):\n",
    "  n_bins = n_rows * n_cols\n",
    "\n",
    "  targets = np.array(y_real[:, particle_index])\n",
    "  predictions = np.array(y_generated[:, particle_index])\n",
    "  uncertainty_scores = np.array(uncertainty_scores)\n",
    "\n",
    "  if uncertainty_type == 'MCD':\n",
    "    uncertainty_scores = uncertainty_scores[:, particle_index]\n",
    "\n",
    "  if bin_type == 'linear':\n",
    "    bin_edges = np.linspace(uncertainty_scores.min(), uncertainty_scores.max(), n_bins + 1)\n",
    "  else: # Quantiles\n",
    "    bin_edges = np.quantile(uncertainty_scores, np.linspace(0, 1, n_bins + 1))\n",
    "\n",
    "  # Digitize returns sample indices per bin\n",
    "  bin_indices = np.digitize(uncertainty_scores, bin_edges)\n",
    "  distances = []\n",
    "\n",
    "  for i in range(10):\n",
    "    indices = bin_indices == i + 1\n",
    "\n",
    "    mins = targets[indices].min(), predictions[indices].min()\n",
    "    maxs = targets[indices].max(), predictions[indices].max()\n",
    "\n",
    "    hist_range = min(mins), max(maxs)\n",
    "\n",
    "    targets_hist = np.histogram(targets[indices], 25, hist_range, True)[0]\n",
    "    predictions_hist = np.histogram(\n",
    "        predictions[indices], 25, hist_range, True)[0]\n",
    "\n",
    "    if metric == 'JS':\n",
    "      dist = jensenshannon(predictions_hist, targets_hist)\n",
    "    else:\n",
    "      dist = kstest(predictions[indices], targets[indices]).statistic\n",
    "\n",
    "    distances += [dist]\n",
    "\n",
    "  #print(f\"{metric} Distances:\\n\" + \", \".join([str(dist) for dist in distances]))\n",
    "  return bin_edges, distances\n",
    "\n",
    "\n",
    "def estimate_correlation(all_bin_ranges, all_distances, dll_columns=DLL_COLUMNS):\n",
    "\n",
    "  correlation_coefficient = []\n",
    "  for i in range(5):\n",
    "    bin_ranges = np.mean([all_bin_ranges[i][1:], all_bin_ranges[i][:-1]], 0)\n",
    "    regress = linregress(bin_ranges, all_distances[i])\n",
    "    correlation_coefficient += [regress.rvalue]\n",
    "    #print(f'Correlation coefficient for {dll_columns[i]}:', regress.rvalue)\n",
    "\n",
    "  return correlation_coefficient"
   ],
   "metadata": {
    "id": "BkbqAN8yjV8j",
    "ExecuteTime": {
     "end_time": "2024-12-14T22:49:28.659275Z",
     "start_time": "2024-12-14T22:49:28.652676Z"
    }
   },
   "outputs": [],
   "execution_count": 3
  },
  {
   "cell_type": "code",
   "source": [
    "def calculate_stats(all_correlations, columns):\n",
    "    df = pd.DataFrame(all_correlations, columns=columns)\n",
    "\n",
    "    means = df.mean(axis=0)\n",
    "    stds = df.std(axis=0)\n",
    "    df.loc['Mean'] = means\n",
    "    df.loc['Std'] = stds\n",
    "    print(df)"
   ],
   "metadata": {
    "id": "oQ0VElMijWl7",
    "ExecuteTime": {
     "end_time": "2024-12-14T22:49:37.048054Z",
     "start_time": "2024-12-14T22:49:37.043782Z"
    }
   },
   "outputs": [],
   "execution_count": 4
  },
  {
   "cell_type": "code",
   "source": [
    "def calculate_correlations(metric, uncertainty_type, uncertainty_data, y_sample, t_generated, N = 30):\n",
    "    all_correlations = []\n",
    "\n",
    "    for j in range(N):\n",
    "        all_bin_edges, all_distances = [], []\n",
    "        for i in range(5):\n",
    "            bin_edges, distances = estimate_distances(\n",
    "                y_sample, t_generated, uncertainty_data[j],\n",
    "                uncertainty_type=uncertainty_type, bin_type='quantiles',\n",
    "                particle_index=i, metric=metric\n",
    "            )\n",
    "\n",
    "            all_bin_edges += [bin_edges]\n",
    "            all_distances += [distances]\n",
    "\n",
    "        all_correlations.append(estimate_correlation(all_bin_edges, all_distances))\n",
    "\n",
    "    return all_correlations"
   ],
   "metadata": {
    "id": "jHKcAdb4kI1J",
    "ExecuteTime": {
     "end_time": "2024-12-14T22:49:39.275814Z",
     "start_time": "2024-12-14T22:49:39.270746Z"
    }
   },
   "outputs": [],
   "execution_count": 5
  },
  {
   "cell_type": "markdown",
   "source": [
    "# FD"
   ],
   "metadata": {
    "id": "hFFi9p6ylFTs"
   }
  },
  {
   "cell_type": "markdown",
   "source": [
    "## Load data"
   ],
   "metadata": {
    "id": "wguuRiuan97S"
   }
  },
  {
   "metadata": {
    "ExecuteTime": {
     "end_time": "2024-12-14T23:10:21.005699Z",
     "start_time": "2024-12-14T23:10:20.871372Z"
    }
   },
   "cell_type": "code",
   "source": [
    "layer = 14\n",
    "dir = f'{output_dir_base}{layer}/'\n",
    "fd_uncertainty_all = np.load(f'{dir}{PARTICLE}_fd_uncertainty.npy')\n",
    "y_sample = np.load(f'{dir}{PARTICLE}_y_real.npy')\n",
    "x_sample = np.load(f'{dir}{PARTICLE}_x_real.npy')\n",
    "t_generated = np.load(f'{dir}{PARTICLE}_t_generated.npy')"
   ],
   "outputs": [],
   "execution_count": 19
  },
  {
   "cell_type": "markdown",
   "source": [
    "## Features Densities with JS"
   ],
   "metadata": {
    "id": "PHRQQRb9lDOO"
   }
  },
  {
   "cell_type": "code",
   "source": [
    "all_correlations = calculate_correlations('JS', 'FD', fd_uncertainty_all, y_sample, t_generated, len(fd_uncertainty_all))\n",
    "calculate_stats(all_correlations, DLL_COLUMNS)"
   ],
   "metadata": {
    "colab": {
     "base_uri": "https://localhost:8080/"
    },
    "id": "TlmXLKzflHnK",
    "outputId": "1bf24f22-f422-428f-cb1a-3849740a962a",
    "ExecuteTime": {
     "end_time": "2024-12-14T23:10:26.577839Z",
     "start_time": "2024-12-14T23:10:23.865822Z"
    }
   },
   "outputs": [
    {
     "name": "stdout",
     "output_type": "stream",
     "text": [
      "      RichDLLe  RichDLLk  RichDLLmu  RichDLLp  RichDLLbt\n",
      "0     0.964998  0.828683   0.957796  0.719227   0.924053\n",
      "1     0.962970  0.833798   0.955700  0.716298   0.927429\n",
      "2     0.964155  0.827681   0.957481  0.709216   0.910402\n",
      "3     0.960547  0.827948   0.962187  0.715606   0.897411\n",
      "4     0.962745  0.826722   0.964088  0.712928   0.903402\n",
      "5     0.962162  0.823687   0.955628  0.712516   0.900312\n",
      "6     0.962422  0.826518   0.960789  0.717771   0.908824\n",
      "7     0.963515  0.830457   0.959503  0.711259   0.917277\n",
      "8     0.963370  0.828275   0.958104  0.705265   0.912214\n",
      "9     0.957619  0.830407   0.954176  0.724982   0.928754\n",
      "10    0.959431  0.816098   0.959749  0.712633   0.899848\n",
      "11    0.964809  0.827028   0.959149  0.718842   0.914598\n",
      "12    0.965831  0.815356   0.963090  0.721774   0.890789\n",
      "13    0.961931  0.824603   0.955755  0.698396   0.905629\n",
      "14    0.965178  0.823605   0.951506  0.719985   0.904464\n",
      "15    0.967790  0.831956   0.962054  0.719260   0.924090\n",
      "16    0.955517  0.825910   0.960257  0.699826   0.902915\n",
      "17    0.960055  0.829350   0.957726  0.717650   0.905998\n",
      "18    0.964620  0.827632   0.963483  0.702050   0.902091\n",
      "19    0.961856  0.826763   0.959355  0.719992   0.913529\n",
      "20    0.959855  0.830346   0.955797  0.715839   0.926139\n",
      "21    0.960948  0.830339   0.956505  0.726427   0.926611\n",
      "22    0.961153  0.832713   0.957186  0.714048   0.933318\n",
      "23    0.965949  0.827526   0.963390  0.721452   0.905257\n",
      "24    0.959982  0.828567   0.957843  0.713217   0.894509\n",
      "25    0.962544  0.828782   0.957150  0.711063   0.915130\n",
      "26    0.961923  0.831290   0.957474  0.714001   0.919660\n",
      "27    0.962817  0.827371   0.955904  0.729924   0.913214\n",
      "28    0.963553  0.830890   0.967751  0.717831   0.898871\n",
      "29    0.962717  0.826846   0.959070  0.715546   0.910174\n",
      "Mean  0.962432  0.827572   0.958855  0.715161   0.911230\n",
      "Std   0.002564  0.004047   0.003414  0.007236   0.011207\n"
     ]
    }
   ],
   "execution_count": 20
  },
  {
   "cell_type": "markdown",
   "source": [
    "## Features Densities with KS"
   ],
   "metadata": {
    "id": "ohyZ2fR-lzJa"
   }
  },
  {
   "cell_type": "code",
   "source": [
    "all_correlations = calculate_correlations('KS', 'FD', fd_uncertainty_all, y_sample, t_generated, len(fd_uncertainty_all))\n",
    "calculate_stats(all_correlations, DLL_COLUMNS)"
   ],
   "metadata": {
    "colab": {
     "base_uri": "https://localhost:8080/"
    },
    "id": "253GqXaEl3-p",
    "outputId": "876c3090-8fa4-4c10-d04b-e060ef8f7a4a"
   },
   "outputs": [],
   "execution_count": null
  },
  {
   "cell_type": "markdown",
   "source": [
    "# MCD"
   ],
   "metadata": {
    "id": "s34o5S4NltMH"
   }
  },
  {
   "cell_type": "markdown",
   "source": [
    "## Load data"
   ],
   "metadata": {
    "id": "4MvEg2QdmB7G"
   }
  },
  {
   "cell_type": "markdown",
   "source": [
    "### DROPOUT 0.05"
   ],
   "metadata": {
    "id": "Wch9yBXDb31A"
   }
  },
  {
   "cell_type": "code",
   "source": [
    "dir = '/content/drive/MyDrive/cern/data/results/30x30/dp_0.05/2024-oct-20/'\n",
    "\n",
    "mcd_all_uncertainties  = np.load(dir + f'{PARTICLE}_mcd_uncertainty.npy')"
   ],
   "metadata": {
    "id": "OW02LU-pb2Jk"
   },
   "execution_count": null,
   "outputs": []
  },
  {
   "cell_type": "markdown",
   "source": [
    "### DROPOUT 0.01"
   ],
   "metadata": {
    "id": "2jCOyJuadn6_"
   }
  },
  {
   "cell_type": "code",
   "source": [
    "!unzip -qq '/content/drive/MyDrive/cern/data/results/30x30/dp_0.01/2024-oct-04/pion_uncertainty_30x30_reps.zip'\n",
    "mcd_all_uncertainties  = np.load('/content/' + f'{PARTICLE}_mcd_uncertainty_30_reps.npy')"
   ],
   "metadata": {
    "colab": {
     "base_uri": "https://localhost:8080/"
    },
    "id": "lJ7-NUNrdrRd",
    "outputId": "1e8de672-e23e-4885-c1ba-1c3ab1fca591"
   },
   "execution_count": null,
   "outputs": [
    {
     "output_type": "stream",
     "name": "stdout",
     "text": [
      "replace pion_mcd_uncertainty_30_reps.npy? [y]es, [n]o, [A]ll, [N]one, [r]ename: N\n"
     ]
    }
   ]
  },
  {
   "cell_type": "markdown",
   "source": [
    "### DROPOUT 0.1"
   ],
   "metadata": {
    "id": "gUq_Og_wdurC"
   }
  },
  {
   "cell_type": "code",
   "source": [
    "dir = '/content/drive/MyDrive/cern/data/results/30x30/dp_0.1/2024-oct-18/'\n",
    "\n",
    "mcd_all_uncertainties  = np.load(dir + f'{PARTICLE}_mcd_uncertainty.npy')"
   ],
   "metadata": {
    "id": "MInCgA0RduM3"
   },
   "execution_count": null,
   "outputs": []
  },
  {
   "cell_type": "markdown",
   "source": [
    "## MCD with JS"
   ],
   "metadata": {
    "id": "DO3bGlqMl9m5"
   }
  },
  {
   "cell_type": "code",
   "source": [
    "all_correlations = calculate_correlations('JS', 'MCD', mcd_all_uncertainties)\n",
    "calculate_stats(all_correlations, DLL_COLUMNS)"
   ],
   "metadata": {
    "colab": {
     "base_uri": "https://localhost:8080/"
    },
    "id": "6YznqgiBmCO-",
    "outputId": "8c6ef9f5-3e8a-43c2-baff-60f6da99d2f1"
   },
   "execution_count": null,
   "outputs": [
    {
     "output_type": "stream",
     "name": "stdout",
     "text": [
      "      RichDLLe  RichDLLk  RichDLLmu  RichDLLp  RichDLLbt\n",
      "0     0.931712  0.892428   0.927162  0.981013   0.752428\n",
      "1     0.932801  0.913138   0.942275  0.985214   0.747845\n",
      "2     0.915555  0.909380   0.965178  0.971393   0.769795\n",
      "3     0.923141  0.897347   0.977387  0.991940   0.742450\n",
      "4     0.922550  0.913731   0.960804  0.968792   0.809786\n",
      "5     0.908788  0.906154   0.946164  0.971405   0.776485\n",
      "6     0.926276  0.917019   0.972417  0.986013   0.809021\n",
      "7     0.930464  0.901918   0.980704  0.984468   0.736220\n",
      "8     0.926601  0.899143   0.927712  0.976093   0.775351\n",
      "9     0.932433  0.907352   0.971200  0.986352   0.768836\n",
      "10    0.930012  0.897800   0.954017  0.978606   0.804160\n",
      "11    0.933869  0.906648   0.933330  0.987977   0.795520\n",
      "12    0.948315  0.905112   0.848564  0.987393   0.743769\n",
      "13    0.952713  0.906916   0.927898  0.976741   0.862072\n",
      "14    0.943223  0.911184   0.976087  0.992929   0.723222\n",
      "15    0.932740  0.910928   0.898221  0.984948   0.801496\n",
      "16    0.949656  0.903927   0.974955  0.981735   0.700338\n",
      "17    0.940968  0.902719   0.929642  0.982738   0.788196\n",
      "18    0.927123  0.905570   0.959727  0.985302   0.732748\n",
      "19    0.933494  0.893749   0.949430  0.974279   0.717174\n",
      "20    0.940211  0.915618   0.976605  0.990317   0.765009\n",
      "21    0.946572  0.913235   0.906637  0.986197   0.822901\n",
      "22    0.932807  0.910619   0.924458  0.990613   0.727972\n",
      "23    0.951459  0.907676   0.974358  0.984261   0.733642\n",
      "24    0.948888  0.895671   0.941012  0.986107   0.736686\n",
      "25    0.934017  0.911454   0.919811  0.987962   0.824890\n",
      "26    0.922254  0.911596   0.963025  0.985278   0.830491\n",
      "27    0.932861  0.906352   0.989222  0.989002   0.793378\n",
      "28    0.961362  0.909150   0.982111  0.982613   0.770660\n",
      "29    0.927015  0.903418   0.927417  0.981767   0.760685\n",
      "Mean  0.934663  0.906232   0.947584  0.983315   0.770774\n",
      "Std   0.011756  0.006448   0.030822  0.006202   0.038824\n"
     ]
    }
   ]
  },
  {
   "cell_type": "markdown",
   "source": [
    "## MCD with KS"
   ],
   "metadata": {
    "id": "skERS5d2mUh7"
   }
  },
  {
   "cell_type": "code",
   "source": [
    "all_correlations = calculate_correlations('KS', 'MCD', mcd_all_uncertainties)\n",
    "calculate_stats(all_correlations, DLL_COLUMNS)"
   ],
   "metadata": {
    "colab": {
     "base_uri": "https://localhost:8080/"
    },
    "id": "hLA4cPtAmTDM",
    "outputId": "aa0fc492-9ea7-4c47-d457-c8dfc98ce621"
   },
   "execution_count": null,
   "outputs": [
    {
     "output_type": "stream",
     "name": "stdout",
     "text": [
      "      RichDLLe  RichDLLk  RichDLLmu  RichDLLp  RichDLLbt\n",
      "0     0.900017  0.894222   0.897238  0.967978   0.616516\n",
      "1     0.897940  0.917895   0.990227  0.978043   0.658763\n",
      "2     0.878441  0.907950   0.983142  0.956923   0.631530\n",
      "3     0.884357  0.901341   0.950946  0.979883   0.606102\n",
      "4     0.895306  0.915214   0.995029  0.948828   0.681325\n",
      "5     0.843513  0.907032   0.988540  0.956222   0.641202\n",
      "6     0.878221  0.922935   0.970313  0.976142   0.672499\n",
      "7     0.870327  0.908059   0.985194  0.972894   0.638253\n",
      "8     0.829179  0.903771   0.969962  0.963994   0.664239\n",
      "9     0.842508  0.907928   0.994250  0.973793   0.667476\n",
      "10    0.893678  0.898061   0.901402  0.960095   0.657557\n",
      "11    0.842354  0.914866   0.900312  0.978566   0.640179\n",
      "12    0.938817  0.911381   0.888018  0.973989   0.605006\n",
      "13    0.922875  0.908213   0.990911  0.959045   0.767105\n",
      "14    0.862864  0.915870   0.967733  0.983107   0.597293\n",
      "15    0.890918  0.913653   0.942021  0.970654   0.667908\n",
      "16    0.929453  0.906547   0.945509  0.966433   0.599673\n",
      "17    0.885985  0.906916   0.973989  0.969227   0.680214\n",
      "18    0.836765  0.902521   0.914998  0.969552   0.611380\n",
      "19    0.778655  0.888880   0.981097  0.957176   0.576153\n",
      "20    0.927298  0.918319   0.995274  0.979587   0.644054\n",
      "21    0.926205  0.915767   0.868809  0.976083   0.746374\n",
      "22    0.827415  0.908648   0.969388  0.976917   0.621603\n",
      "23    0.877513  0.915130   0.947001  0.971066   0.621811\n",
      "24    0.938331  0.896721   0.981982  0.972148   0.619530\n",
      "25    0.879915  0.914783   0.971519  0.975393   0.696294\n",
      "26    0.803370  0.914865   0.957475  0.974250   0.685146\n",
      "27    0.907840  0.912510   0.941281  0.978511   0.679981\n",
      "28    0.936116  0.911306   0.969558  0.970745   0.661309\n",
      "29    0.889294  0.906583   0.983140  0.969218   0.666391\n",
      "Mean  0.880516  0.908930   0.957209  0.970215   0.650762\n",
      "Std   0.041001  0.007706   0.035768  0.008370   0.042168\n"
     ]
    }
   ]
  }
 ]
}
