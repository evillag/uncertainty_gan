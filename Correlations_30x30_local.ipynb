{
 "nbformat": 4,
 "nbformat_minor": 0,
 "metadata": {
  "colab": {
   "provenance": []
  },
  "kernelspec": {
   "name": "python3",
   "display_name": "Python 3 (ipykernel)",
   "language": "python"
  },
  "language_info": {
   "name": "python"
  }
 },
 "cells": [
  {
   "metadata": {},
   "cell_type": "code",
   "source": [
    "import numpy as np\n",
    "import pandas as pd\n",
    "\n",
    "from scipy.spatial.distance import jensenshannon\n",
    "from scipy.stats import linregress, kstest"
   ],
   "outputs": [],
   "execution_count": null
  },
  {
   "metadata": {},
   "cell_type": "markdown",
   "source": "# Parameters"
  },
  {
   "cell_type": "code",
   "source": [
    "DLL_COLUMNS = ['RichDLLe', 'RichDLLk', 'RichDLLmu', 'RichDLLp', 'RichDLLbt']\n",
    "PARTICLE = 'pion'\n",
    "output_dir = 'results'\n",
    "run_date = '2024-dec-14'\n",
    "output_dir_base = f'{output_dir}/{run_date}/layer'\n",
    "\n",
    "# !unzip -qq '/content/drive/MyDrive/cern/data/results/30x30/dp_0.01/2024-oct-04/pion_sample_30x30.zip'\n",
    "# y_sample = np.load('/content/results/pion_y_real.npy')\n",
    "# x_sample = np.load('/content/results/pion_x_real.npy')\n",
    "# t_generated = np.load('/content/results/t_generated.npy')"
   ],
   "metadata": {
    "id": "rWmJ_NzzF23i"
   },
   "outputs": [],
   "execution_count": null
  },
  {
   "metadata": {},
   "cell_type": "markdown",
   "source": "# Functions"
  },
  {
   "cell_type": "code",
   "source": [
    "def estimate_distances(y_real, y_generated, uncertainty_scores, uncertainty_type = None, bin_type = 'linear',\n",
    "                                                 particle_index = 0, metric='JS', n_rows = 2, n_cols = 5, dll_columns=DLL_COLUMNS):\n",
    "  n_bins = n_rows * n_cols\n",
    "\n",
    "  targets = np.array(y_real[:, particle_index])\n",
    "  predictions = np.array(y_generated[:, particle_index])\n",
    "  uncertainty_scores = np.array(uncertainty_scores)\n",
    "\n",
    "  if uncertainty_type == 'MCD':\n",
    "    uncertainty_scores = uncertainty_scores[:, particle_index]\n",
    "\n",
    "  if bin_type == 'linear':\n",
    "    bin_edges = np.linspace(uncertainty_scores.min(), uncertainty_scores.max(), n_bins + 1)\n",
    "  else: # Quantiles\n",
    "    bin_edges = np.quantile(uncertainty_scores, np.linspace(0, 1, n_bins + 1))\n",
    "\n",
    "  # Digitize returns sample indices per bin\n",
    "  bin_indices = np.digitize(uncertainty_scores, bin_edges)\n",
    "  distances = []\n",
    "\n",
    "  for i in range(10):\n",
    "    indices = bin_indices == i + 1\n",
    "\n",
    "    mins = targets[indices].min(), predictions[indices].min()\n",
    "    maxs = targets[indices].max(), predictions[indices].max()\n",
    "\n",
    "    hist_range = min(mins), max(maxs)\n",
    "\n",
    "    targets_hist = np.histogram(targets[indices], 25, hist_range, True)[0]\n",
    "    predictions_hist = np.histogram(\n",
    "        predictions[indices], 25, hist_range, True)[0]\n",
    "\n",
    "    if metric == 'JS':\n",
    "      dist = jensenshannon(predictions_hist, targets_hist)\n",
    "    else:\n",
    "      dist = kstest(predictions[indices], targets[indices]).statistic\n",
    "\n",
    "    distances += [dist]\n",
    "\n",
    "  #print(f\"{metric} Distances:\\n\" + \", \".join([str(dist) for dist in distances]))\n",
    "  return bin_edges, distances\n",
    "\n",
    "\n",
    "def estimate_correlation(all_bin_ranges, all_distances, dll_columns=DLL_COLUMNS):\n",
    "\n",
    "  correlation_coefficient = []\n",
    "  for i in range(5):\n",
    "    bin_ranges = np.mean([all_bin_ranges[i][1:], all_bin_ranges[i][:-1]], 0)\n",
    "    regress = linregress(bin_ranges, all_distances[i])\n",
    "    correlation_coefficient += [regress.rvalue]\n",
    "    #print(f'Correlation coefficient for {dll_columns[i]}:', regress.rvalue)\n",
    "\n",
    "  return correlation_coefficient"
   ],
   "metadata": {
    "id": "BkbqAN8yjV8j"
   },
   "outputs": [],
   "execution_count": null
  },
  {
   "cell_type": "code",
   "source": [
    "def calculate_stats(all_correlations, columns):\n",
    "    df = pd.DataFrame(all_correlations, columns=columns)\n",
    "\n",
    "    means = df.mean(axis=0)\n",
    "    stds = df.std(axis=0)\n",
    "    df.loc['Mean'] = means\n",
    "    df.loc['Std'] = stds\n",
    "    print(df)"
   ],
   "metadata": {
    "id": "oQ0VElMijWl7"
   },
   "outputs": [],
   "execution_count": null
  },
  {
   "cell_type": "code",
   "source": [
    "def calculate_correlations(metric, uncertainty_type, uncertainty_data, y_sample, t_generated, N = 30):\n",
    "    all_correlations = []\n",
    "\n",
    "    for j in range(N):\n",
    "        all_bin_edges, all_distances = [], []\n",
    "        for i in range(5):\n",
    "            bin_edges, distances = estimate_distances(\n",
    "                y_sample, t_generated, uncertainty_data[j],\n",
    "                uncertainty_type=uncertainty_type, bin_type='quantiles',\n",
    "                particle_index=i, metric=metric\n",
    "            )\n",
    "\n",
    "            all_bin_edges += [bin_edges]\n",
    "            all_distances += [distances]\n",
    "\n",
    "        all_correlations.append(estimate_correlation(all_bin_edges, all_distances))\n",
    "\n",
    "    return all_correlations"
   ],
   "metadata": {
    "id": "jHKcAdb4kI1J"
   },
   "outputs": [],
   "execution_count": null
  },
  {
   "cell_type": "markdown",
   "source": [
    "# FD"
   ],
   "metadata": {
    "id": "hFFi9p6ylFTs"
   }
  },
  {
   "cell_type": "markdown",
   "source": [
    "## Load data"
   ],
   "metadata": {
    "id": "wguuRiuan97S"
   }
  },
  {
   "metadata": {},
   "cell_type": "code",
   "source": [
    "layer = 14\n",
    "dir = f'{output_dir_base}{layer}/'\n",
    "fd_uncertainty_all = np.load(f'{dir}{PARTICLE}_fd_uncertainty.npy')\n",
    "y_sample = np.load(f'{dir}{PARTICLE}_y_real.npy')\n",
    "x_sample = np.load(f'{dir}{PARTICLE}_x_real.npy')\n",
    "t_generated = np.load(f'{dir}{PARTICLE}_t_generated.npy')"
   ],
   "outputs": [],
   "execution_count": null
  },
  {
   "cell_type": "markdown",
   "source": [
    "## Features Densities with JS"
   ],
   "metadata": {
    "id": "PHRQQRb9lDOO"
   }
  },
  {
   "cell_type": "code",
   "source": [
    "all_correlations = calculate_correlations('JS', 'FD', fd_uncertainty_all, y_sample, t_generated, len(fd_uncertainty_all))\n",
    "calculate_stats(all_correlations, DLL_COLUMNS)"
   ],
   "metadata": {
    "colab": {
     "base_uri": "https://localhost:8080/"
    },
    "id": "TlmXLKzflHnK",
    "outputId": "1bf24f22-f422-428f-cb1a-3849740a962a"
   },
   "outputs": [],
   "execution_count": null
  },
  {
   "cell_type": "markdown",
   "source": [
    "## Features Densities with KS"
   ],
   "metadata": {
    "id": "ohyZ2fR-lzJa"
   }
  },
  {
   "cell_type": "code",
   "source": [
    "all_correlations = calculate_correlations('KS', 'FD', fd_uncertainty_all, y_sample, t_generated, len(fd_uncertainty_all))\n",
    "calculate_stats(all_correlations, DLL_COLUMNS)"
   ],
   "metadata": {
    "colab": {
     "base_uri": "https://localhost:8080/"
    },
    "id": "253GqXaEl3-p",
    "outputId": "876c3090-8fa4-4c10-d04b-e060ef8f7a4a"
   },
   "outputs": [],
   "execution_count": null
  },
  {
   "cell_type": "markdown",
   "source": [
    "# MCD"
   ],
   "metadata": {
    "id": "s34o5S4NltMH"
   }
  },
  {
   "cell_type": "markdown",
   "source": [
    "## Load data"
   ],
   "metadata": {
    "id": "4MvEg2QdmB7G"
   }
  },
  {
   "cell_type": "code",
   "source": [
    "output_dir_base = f'{output_dir}/{run_date}/dp'\n",
    "dp = 0.1\n",
    "dir = f'{output_dir_base}{dp}/'\n",
    "\n",
    "mcd_all_uncertainties  = np.load(f'{dir}{PARTICLE}_mcd_uncertainty.npy')\n",
    "y_sample = np.load(f'{dir}{PARTICLE}_y_real.npy')\n",
    "x_sample = np.load(f'{dir}{PARTICLE}_x_real.npy')\n",
    "t_generated = np.load(f'{dir}{PARTICLE}_t_generated.npy')"
   ],
   "metadata": {
    "id": "OW02LU-pb2Jk"
   },
   "outputs": [],
   "execution_count": null
  },
  {
   "cell_type": "markdown",
   "source": [
    "## MCD with JS"
   ],
   "metadata": {
    "id": "DO3bGlqMl9m5"
   }
  },
  {
   "cell_type": "code",
   "source": [
    "all_correlations = calculate_correlations('JS', 'MCD', mcd_all_uncertainties, y_sample, t_generated, len(mcd_all_uncertainties))\n",
    "calculate_stats(all_correlations, DLL_COLUMNS)"
   ],
   "metadata": {
    "colab": {
     "base_uri": "https://localhost:8080/"
    },
    "id": "6YznqgiBmCO-",
    "outputId": "8c6ef9f5-3e8a-43c2-baff-60f6da99d2f1",
    "ExecuteTime": {
     "end_time": "2024-12-15T01:45:05.656526Z",
     "start_time": "2024-12-15T01:45:02.740054Z"
    }
   },
   "outputs": [
    {
     "name": "stdout",
     "output_type": "stream",
     "text": [
      "      RichDLLe  RichDLLk  RichDLLmu  RichDLLp  RichDLLbt\n",
      "0     0.927535  0.943642  -0.096021  0.963068   0.912188\n",
      "1     0.416817  0.943260  -0.646998  0.964932   0.947819\n",
      "2     0.949274  0.949787  -0.336534  0.976682   0.915784\n",
      "3     0.919528  0.958360   0.829548  0.985186   0.942625\n",
      "4     0.957596  0.949527  -0.476767  0.976680   0.938662\n",
      "5     0.564190  0.946825  -0.131832  0.965916   0.925347\n",
      "6     0.925110  0.940391  -0.409269  0.966542   0.919202\n",
      "7     0.887586  0.954094   0.707442  0.973679   0.937254\n",
      "8     0.936102  0.942812  -0.720991  0.969330   0.920263\n",
      "9     0.930097  0.957741   0.963019  0.969636   0.961393\n",
      "10    0.944452  0.948556  -0.342156  0.975182   0.935092\n",
      "11    0.957036  0.950576  -0.330050  0.978025   0.927810\n",
      "12    0.956752  0.948657  -0.392965  0.966118   0.932744\n",
      "13    0.895271  0.950104  -0.258945  0.974031   0.921510\n",
      "14    0.925987  0.951511  -0.648492  0.987847   0.924302\n",
      "15    0.917884  0.945129  -0.792083  0.972367   0.934306\n",
      "16    0.924493  0.951809  -0.342781  0.981300   0.934178\n",
      "17    0.800273  0.953902  -0.517646  0.968393   0.925988\n",
      "18    0.921372  0.948862   0.954065  0.973179   0.935544\n",
      "19    0.942966  0.943545  -0.017773  0.965390   0.905646\n",
      "20    0.946076  0.945379   0.108041  0.981746   0.939073\n",
      "21    0.943909  0.953605  -0.404606  0.978020   0.928321\n",
      "22    0.924132  0.948151   0.854831  0.966817   0.918524\n",
      "23    0.915193  0.944510  -0.672923  0.972955   0.915633\n",
      "24    0.935734  0.945745  -0.204185  0.974229   0.925332\n",
      "25    0.885742  0.944283   0.803810  0.973136   0.906231\n",
      "26    0.939756  0.950990   0.656065  0.970505   0.939601\n",
      "27    0.858577  0.946313  -0.691625  0.980227   0.921341\n",
      "28    0.943243  0.953002  -0.590486  0.982268   0.927778\n",
      "29    0.745236  0.943062  -0.856574  0.978864   0.909001\n",
      "Mean  0.887931  0.948471  -0.133496  0.973742   0.927616\n",
      "Std   0.118834  0.004544   0.583799  0.006453   0.012613\n"
     ]
    }
   ],
   "execution_count": 13
  },
  {
   "cell_type": "markdown",
   "source": [
    "## MCD with KS"
   ],
   "metadata": {
    "id": "skERS5d2mUh7"
   }
  },
  {
   "cell_type": "code",
   "source": [
    "all_correlations = calculate_correlations('KS', 'MCD', mcd_all_uncertainties)\n",
    "calculate_stats(all_correlations, DLL_COLUMNS)"
   ],
   "metadata": {
    "colab": {
     "base_uri": "https://localhost:8080/"
    },
    "id": "hLA4cPtAmTDM",
    "outputId": "aa0fc492-9ea7-4c47-d457-c8dfc98ce621"
   },
   "outputs": [],
   "execution_count": null
  }
 ]
}
