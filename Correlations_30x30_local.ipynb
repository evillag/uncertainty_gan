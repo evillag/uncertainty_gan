{
 "nbformat": 4,
 "nbformat_minor": 0,
 "metadata": {
  "colab": {
   "provenance": []
  },
  "kernelspec": {
   "name": "python3",
   "display_name": "Python 3 (ipykernel)",
   "language": "python"
  },
  "language_info": {
   "name": "python"
  }
 },
 "cells": [
  {
   "metadata": {
    "ExecuteTime": {
     "end_time": "2024-12-15T16:24:24.644755Z",
     "start_time": "2024-12-15T16:24:24.641033Z"
    }
   },
   "cell_type": "code",
   "source": [
    "import numpy as np\n",
    "import pandas as pd\n",
    "\n",
    "from scipy.spatial.distance import jensenshannon\n",
    "from scipy.stats import linregress, kstest"
   ],
   "outputs": [],
   "execution_count": 12
  },
  {
   "metadata": {},
   "cell_type": "markdown",
   "source": "# Parameters"
  },
  {
   "cell_type": "code",
   "source": [
    "DLL_COLUMNS = ['RichDLLe', 'RichDLLk', 'RichDLLmu', 'RichDLLp', 'RichDLLbt']\n",
    "PARTICLE = 'pion'\n",
    "output_dir = 'results'\n",
    "run_date = '2024-dec-14'\n",
    "output_dir_base = f'{output_dir}/{run_date}/layer'\n",
    "\n",
    "# !unzip -qq '/content/drive/MyDrive/cern/data/results/30x30/dp_0.01/2024-oct-04/pion_sample_30x30.zip'\n",
    "# y_sample = np.load('/content/results/pion_y_real.npy')\n",
    "# x_sample = np.load('/content/results/pion_x_real.npy')\n",
    "# t_generated = np.load('/content/results/t_generated.npy')"
   ],
   "metadata": {
    "id": "rWmJ_NzzF23i",
    "ExecuteTime": {
     "end_time": "2024-12-15T16:24:24.698776Z",
     "start_time": "2024-12-15T16:24:24.695149Z"
    }
   },
   "outputs": [],
   "execution_count": 13
  },
  {
   "metadata": {},
   "cell_type": "markdown",
   "source": "# Functions"
  },
  {
   "cell_type": "code",
   "source": [
    "def estimate_distances(y_real, y_generated, uncertainty_scores, uncertainty_type = None, bin_type = 'linear',\n",
    "                                                 particle_index = 0, metric='JS', n_rows = 2, n_cols = 5, dll_columns=DLL_COLUMNS):\n",
    "  n_bins = n_rows * n_cols\n",
    "\n",
    "  targets = np.array(y_real[:, particle_index])\n",
    "  predictions = np.array(y_generated[:, particle_index])\n",
    "  uncertainty_scores = np.array(uncertainty_scores)\n",
    "\n",
    "  if uncertainty_type == 'MCD':\n",
    "    uncertainty_scores = uncertainty_scores[:, particle_index]\n",
    "\n",
    "  if bin_type == 'linear':\n",
    "    bin_edges = np.linspace(uncertainty_scores.min(), uncertainty_scores.max(), n_bins + 1)\n",
    "  else: # Quantiles\n",
    "    bin_edges = np.quantile(uncertainty_scores, np.linspace(0, 1, n_bins + 1))\n",
    "\n",
    "  # Digitize returns sample indices per bin\n",
    "  bin_indices = np.digitize(uncertainty_scores, bin_edges)\n",
    "  distances = []\n",
    "\n",
    "  for i in range(10):\n",
    "    indices = bin_indices == i + 1\n",
    "\n",
    "    mins = targets[indices].min(), predictions[indices].min()\n",
    "    maxs = targets[indices].max(), predictions[indices].max()\n",
    "\n",
    "    hist_range = min(mins), max(maxs)\n",
    "\n",
    "    targets_hist = np.histogram(targets[indices], 25, hist_range, True)[0]\n",
    "    predictions_hist = np.histogram(\n",
    "        predictions[indices], 25, hist_range, True)[0]\n",
    "\n",
    "    if metric == 'JS':\n",
    "      dist = jensenshannon(predictions_hist, targets_hist)\n",
    "    else:\n",
    "      dist = kstest(predictions[indices], targets[indices]).statistic\n",
    "\n",
    "    distances += [dist]\n",
    "\n",
    "  #print(f\"{metric} Distances:\\n\" + \", \".join([str(dist) for dist in distances]))\n",
    "  return bin_edges, distances\n",
    "\n",
    "\n",
    "def estimate_correlation(all_bin_ranges, all_distances, dll_columns=DLL_COLUMNS):\n",
    "\n",
    "  correlation_coefficient = []\n",
    "  for i in range(5):\n",
    "    bin_ranges = np.mean([all_bin_ranges[i][1:], all_bin_ranges[i][:-1]], 0)\n",
    "    regress = linregress(bin_ranges, all_distances[i])\n",
    "    correlation_coefficient += [regress.rvalue]\n",
    "    #print(f'Correlation coefficient for {dll_columns[i]}:', regress.rvalue)\n",
    "\n",
    "  return correlation_coefficient"
   ],
   "metadata": {
    "id": "BkbqAN8yjV8j",
    "ExecuteTime": {
     "end_time": "2024-12-15T16:24:24.752809Z",
     "start_time": "2024-12-15T16:24:24.745640Z"
    }
   },
   "outputs": [],
   "execution_count": 14
  },
  {
   "cell_type": "code",
   "source": [
    "def calculate_stats(all_correlations, columns):\n",
    "    df = pd.DataFrame(all_correlations, columns=columns)\n",
    "\n",
    "    means = df.mean(axis=0)\n",
    "    stds = df.std(axis=0)\n",
    "    df.loc['Mean'] = means\n",
    "    df.loc['Std'] = stds\n",
    "    print(df)"
   ],
   "metadata": {
    "id": "oQ0VElMijWl7",
    "ExecuteTime": {
     "end_time": "2024-12-15T16:24:24.808354Z",
     "start_time": "2024-12-15T16:24:24.804430Z"
    }
   },
   "outputs": [],
   "execution_count": 15
  },
  {
   "cell_type": "code",
   "source": [
    "def calculate_correlations(metric, uncertainty_type, uncertainty_data, y_sample, t_generated, N = 30):\n",
    "    all_correlations = []\n",
    "\n",
    "    for j in range(N):\n",
    "        all_bin_edges, all_distances = [], []\n",
    "        for i in range(5):\n",
    "            bin_edges, distances = estimate_distances(\n",
    "                y_sample, t_generated, uncertainty_data[j],\n",
    "                uncertainty_type=uncertainty_type, bin_type='quantiles',\n",
    "                particle_index=i, metric=metric\n",
    "            )\n",
    "\n",
    "            all_bin_edges += [bin_edges]\n",
    "            all_distances += [distances]\n",
    "\n",
    "        all_correlations.append(estimate_correlation(all_bin_edges, all_distances))\n",
    "\n",
    "    return all_correlations"
   ],
   "metadata": {
    "id": "jHKcAdb4kI1J",
    "ExecuteTime": {
     "end_time": "2024-12-15T16:24:24.860649Z",
     "start_time": "2024-12-15T16:24:24.856170Z"
    }
   },
   "outputs": [],
   "execution_count": 16
  },
  {
   "cell_type": "markdown",
   "source": [
    "# FD"
   ],
   "metadata": {
    "id": "hFFi9p6ylFTs"
   }
  },
  {
   "cell_type": "markdown",
   "source": [
    "## Load data"
   ],
   "metadata": {
    "id": "wguuRiuan97S"
   }
  },
  {
   "metadata": {
    "ExecuteTime": {
     "end_time": "2024-12-15T16:24:25.015488Z",
     "start_time": "2024-12-15T16:24:24.904029Z"
    }
   },
   "cell_type": "code",
   "source": [
    "layer = 14\n",
    "dir = f'{output_dir_base}{layer}/'\n",
    "fd_uncertainty_all = np.load(f'{dir}{PARTICLE}_fd_uncertainty.npy')\n",
    "y_sample = np.load(f'{dir}{PARTICLE}_y_real.npy')\n",
    "x_sample = np.load(f'{dir}{PARTICLE}_x_real.npy')\n",
    "t_generated = np.load(f'{dir}{PARTICLE}_t_generated.npy')"
   ],
   "outputs": [],
   "execution_count": 17
  },
  {
   "cell_type": "markdown",
   "source": [
    "## Features Densities with JS"
   ],
   "metadata": {
    "id": "PHRQQRb9lDOO"
   }
  },
  {
   "cell_type": "code",
   "source": [
    "all_correlations = calculate_correlations('JS', 'FD', fd_uncertainty_all, y_sample, t_generated, len(fd_uncertainty_all))\n",
    "calculate_stats(all_correlations, DLL_COLUMNS)"
   ],
   "metadata": {
    "colab": {
     "base_uri": "https://localhost:8080/"
    },
    "id": "TlmXLKzflHnK",
    "outputId": "1bf24f22-f422-428f-cb1a-3849740a962a",
    "ExecuteTime": {
     "end_time": "2024-12-15T16:24:29.320466Z",
     "start_time": "2024-12-15T16:24:25.073985Z"
    }
   },
   "outputs": [
    {
     "name": "stdout",
     "output_type": "stream",
     "text": [
      "      RichDLLe  RichDLLk  RichDLLmu  RichDLLp  RichDLLbt\n",
      "0     0.964998  0.828683   0.957796  0.719227   0.924053\n",
      "1     0.962970  0.833798   0.955700  0.716298   0.927429\n",
      "2     0.964155  0.827681   0.957481  0.709216   0.910402\n",
      "3     0.960547  0.827948   0.962187  0.715606   0.897411\n",
      "4     0.962745  0.826722   0.964088  0.712928   0.903402\n",
      "5     0.962162  0.823687   0.955628  0.712516   0.900312\n",
      "6     0.962422  0.826518   0.960789  0.717771   0.908824\n",
      "7     0.963515  0.830457   0.959503  0.711259   0.917277\n",
      "8     0.963370  0.828275   0.958104  0.705265   0.912214\n",
      "9     0.957619  0.830407   0.954176  0.724982   0.928754\n",
      "10    0.959431  0.816098   0.959749  0.712633   0.899848\n",
      "11    0.964809  0.827028   0.959149  0.718842   0.914598\n",
      "12    0.965831  0.815356   0.963090  0.721774   0.890789\n",
      "13    0.961931  0.824603   0.955755  0.698396   0.905629\n",
      "14    0.965178  0.823605   0.951506  0.719985   0.904464\n",
      "15    0.967790  0.831956   0.962054  0.719260   0.924090\n",
      "16    0.955517  0.825910   0.960257  0.699826   0.902915\n",
      "17    0.960055  0.829350   0.957726  0.717650   0.905998\n",
      "18    0.964620  0.827632   0.963483  0.702050   0.902091\n",
      "19    0.961856  0.826763   0.959355  0.719992   0.913529\n",
      "20    0.959855  0.830346   0.955797  0.715839   0.926139\n",
      "21    0.960948  0.830339   0.956505  0.726427   0.926611\n",
      "22    0.961153  0.832713   0.957186  0.714048   0.933318\n",
      "23    0.965949  0.827526   0.963390  0.721452   0.905257\n",
      "24    0.959982  0.828567   0.957843  0.713217   0.894509\n",
      "25    0.962544  0.828782   0.957150  0.711063   0.915130\n",
      "26    0.961923  0.831290   0.957474  0.714001   0.919660\n",
      "27    0.962817  0.827371   0.955904  0.729924   0.913214\n",
      "28    0.963553  0.830890   0.967751  0.717831   0.898871\n",
      "29    0.962717  0.826846   0.959070  0.715546   0.910174\n",
      "Mean  0.962432  0.827572   0.958855  0.715161   0.911230\n",
      "Std   0.002564  0.004047   0.003414  0.007236   0.011207\n"
     ]
    }
   ],
   "execution_count": 18
  },
  {
   "cell_type": "markdown",
   "source": [
    "## Features Densities with KS"
   ],
   "metadata": {
    "id": "ohyZ2fR-lzJa"
   }
  },
  {
   "cell_type": "code",
   "source": [
    "all_correlations = calculate_correlations('KS', 'FD', fd_uncertainty_all, y_sample, t_generated, len(fd_uncertainty_all))\n",
    "calculate_stats(all_correlations, DLL_COLUMNS)"
   ],
   "metadata": {
    "colab": {
     "base_uri": "https://localhost:8080/"
    },
    "id": "253GqXaEl3-p",
    "outputId": "876c3090-8fa4-4c10-d04b-e060ef8f7a4a",
    "ExecuteTime": {
     "end_time": "2024-12-15T16:24:35.226427Z",
     "start_time": "2024-12-15T16:24:29.332044Z"
    }
   },
   "outputs": [
    {
     "name": "stdout",
     "output_type": "stream",
     "text": [
      "      RichDLLe  RichDLLk  RichDLLmu  RichDLLp  RichDLLbt\n",
      "0     0.922542  0.769144   0.877365  0.651841   0.740512\n",
      "1     0.923546  0.769065   0.871600  0.665569   0.748514\n",
      "2     0.921210  0.767971   0.867018  0.651421   0.746251\n",
      "3     0.923725  0.773321   0.873112  0.646618   0.760194\n",
      "4     0.918703  0.768359   0.871497  0.651562   0.734220\n",
      "5     0.918830  0.761066   0.872742  0.645511   0.724752\n",
      "6     0.925732  0.762774   0.865273  0.651702   0.720942\n",
      "7     0.923746  0.772517   0.869374  0.663329   0.744077\n",
      "8     0.917762  0.771504   0.871476  0.654244   0.738877\n",
      "9     0.923704  0.768276   0.869120  0.653000   0.738782\n",
      "10    0.923630  0.762850   0.861909  0.654097   0.747004\n",
      "11    0.924658  0.773738   0.870839  0.652349   0.753925\n",
      "12    0.924652  0.771384   0.875302  0.650035   0.716724\n",
      "13    0.924116  0.763536   0.869784  0.648006   0.725396\n",
      "14    0.925129  0.769977   0.878200  0.657403   0.753944\n",
      "15    0.922737  0.768951   0.884172  0.654313   0.750047\n",
      "16    0.921081  0.768106   0.868769  0.649808   0.722653\n",
      "17    0.921583  0.772752   0.866734  0.656546   0.748038\n",
      "18    0.922059  0.769129   0.871939  0.645101   0.718657\n",
      "19    0.927331  0.767006   0.869746  0.643804   0.731365\n",
      "20    0.919326  0.769552   0.880330  0.647004   0.736309\n",
      "21    0.924144  0.775617   0.870161  0.660408   0.736125\n",
      "22    0.928813  0.774471   0.872843  0.656666   0.762643\n",
      "23    0.925931  0.775467   0.875437  0.653599   0.747931\n",
      "24    0.923869  0.775993   0.878236  0.657618   0.744619\n",
      "25    0.925030  0.766777   0.867611  0.643571   0.754066\n",
      "26    0.926876  0.767455   0.875152  0.655349   0.735291\n",
      "27    0.922962  0.764835   0.868714  0.653653   0.735522\n",
      "28    0.921847  0.768884   0.883270  0.652393   0.736103\n",
      "29    0.923929  0.773008   0.865450  0.652688   0.747499\n",
      "Mean  0.923307  0.769449   0.872106  0.652640   0.740033\n",
      "Std   0.002557  0.003966   0.005249  0.005299   0.012169\n"
     ]
    }
   ],
   "execution_count": 19
  },
  {
   "cell_type": "markdown",
   "source": [
    "# MCD"
   ],
   "metadata": {
    "id": "s34o5S4NltMH"
   }
  },
  {
   "cell_type": "markdown",
   "source": [
    "## Load data"
   ],
   "metadata": {
    "id": "4MvEg2QdmB7G"
   }
  },
  {
   "cell_type": "code",
   "source": [
    "output_dir_base = f'{output_dir}/{run_date}/dp'\n",
    "dp = 0.005\n",
    "dir = f'{output_dir_base}{dp}/'\n",
    "\n",
    "mcd_all_uncertainties  = np.load(f'{dir}{PARTICLE}_mcd_uncertainty.npy')\n",
    "y_sample = np.load(f'{dir}{PARTICLE}_y_real.npy')\n",
    "x_sample = np.load(f'{dir}{PARTICLE}_x_real.npy')\n",
    "t_generated = np.load(f'{dir}{PARTICLE}_t_generated.npy')"
   ],
   "metadata": {
    "id": "OW02LU-pb2Jk",
    "ExecuteTime": {
     "end_time": "2024-12-15T16:24:35.477585Z",
     "start_time": "2024-12-15T16:24:35.244923Z"
    }
   },
   "outputs": [],
   "execution_count": 20
  },
  {
   "cell_type": "markdown",
   "source": [
    "## MCD with JS"
   ],
   "metadata": {
    "id": "DO3bGlqMl9m5"
   }
  },
  {
   "cell_type": "code",
   "source": [
    "all_correlations = calculate_correlations('JS', 'MCD', mcd_all_uncertainties, y_sample, t_generated, len(mcd_all_uncertainties))\n",
    "calculate_stats(all_correlations, DLL_COLUMNS)"
   ],
   "metadata": {
    "colab": {
     "base_uri": "https://localhost:8080/"
    },
    "id": "6YznqgiBmCO-",
    "outputId": "8c6ef9f5-3e8a-43c2-baff-60f6da99d2f1",
    "ExecuteTime": {
     "end_time": "2024-12-15T16:24:37.792588Z",
     "start_time": "2024-12-15T16:24:35.481668Z"
    }
   },
   "outputs": [
    {
     "name": "stdout",
     "output_type": "stream",
     "text": [
      "      RichDLLe  RichDLLk  RichDLLmu  RichDLLp  RichDLLbt\n",
      "0     0.973253  0.963154   0.791120  0.994416   0.652639\n",
      "1     0.881841  0.973327   0.688996  0.985435   0.849597\n",
      "2     0.927235  0.972034   0.695727  0.988791   0.711342\n",
      "3     0.831457  0.979970   0.454474  0.979293   0.594883\n",
      "4     0.919326  0.971196   0.262863  0.933239   0.128607\n",
      "5     0.837797  0.974454   0.448531  0.990109   0.879149\n",
      "6     0.756633  0.970568   0.590062  0.988438   0.839090\n",
      "7     0.893355  0.970251  -0.404310  0.991083   0.830400\n",
      "8     0.756830  0.985200   0.315504  0.993381   0.957548\n",
      "9     0.917053  0.980872   0.931814  0.994931   0.062460\n",
      "10    0.968043  0.973316   0.793065  0.989291   0.706634\n",
      "11    0.903435  0.972637   0.418876  0.987633   0.208458\n",
      "12    0.787884  0.972268   0.710490  0.983281   0.472637\n",
      "13    0.880449  0.973242  -0.311953  0.979620   0.917198\n",
      "14    0.985255  0.985513   0.409213  0.987021   0.809063\n",
      "15    0.788872  0.970303   0.491362  0.986855   0.869733\n",
      "16    0.699160  0.974687  -0.736637  0.988586   0.798860\n",
      "17    0.842445  0.976224   0.339418  0.987238   0.864919\n",
      "18    0.969043  0.972648   0.753548  0.995792   0.398637\n",
      "19    0.360966  0.974514   0.853775  0.996038   0.918776\n",
      "20    0.928958  0.970399   0.670265  0.986721   0.910012\n",
      "21    0.838978  0.970639   0.669277  0.986266   0.367402\n",
      "22    0.784633  0.967608   0.666811  0.977040   0.943881\n",
      "23    0.891159  0.983674   0.336358  0.991192   0.159543\n",
      "24    0.985151  0.975214   0.324621  0.988401   0.757836\n",
      "25    0.970026  0.969303   0.826027  0.988500   0.778984\n",
      "26    0.828859  0.977486   0.348580  0.977762   0.730862\n",
      "27    0.840879  0.955442   0.695265  0.931351   0.389931\n",
      "28    0.979487  0.980540   0.641091  0.992380   0.730771\n",
      "29    0.901262  0.966815   0.731548  0.989857   0.908904\n",
      "Mean  0.860991  0.973450   0.480193  0.984331   0.671625\n",
      "Std   0.122091  0.006292   0.379977  0.014977   0.268702\n"
     ]
    }
   ],
   "execution_count": 21
  },
  {
   "cell_type": "markdown",
   "source": [
    "## MCD with KS"
   ],
   "metadata": {
    "id": "skERS5d2mUh7"
   }
  },
  {
   "cell_type": "code",
   "source": [
    "all_correlations = calculate_correlations('KS', 'MCD', mcd_all_uncertainties, y_sample, t_generated, len(mcd_all_uncertainties))\n",
    "calculate_stats(all_correlations, DLL_COLUMNS)"
   ],
   "metadata": {
    "colab": {
     "base_uri": "https://localhost:8080/"
    },
    "id": "hLA4cPtAmTDM",
    "outputId": "aa0fc492-9ea7-4c47-d457-c8dfc98ce621",
    "ExecuteTime": {
     "end_time": "2024-12-15T16:24:43.543670Z",
     "start_time": "2024-12-15T16:24:37.805082Z"
    }
   },
   "outputs": [
    {
     "name": "stdout",
     "output_type": "stream",
     "text": [
      "      RichDLLe  RichDLLk  RichDLLmu  RichDLLp  RichDLLbt\n",
      "0     0.955755  0.974492   0.787496  0.993640   0.467527\n",
      "1     0.960322  0.980320   0.815629  0.976826   0.793889\n",
      "2     0.919801  0.977731   0.770223  0.985655   0.509864\n",
      "3     0.616106  0.982070   0.548455  0.986697   0.515587\n",
      "4     0.968864  0.978648   0.694839  0.907667   0.020475\n",
      "5     0.427455  0.981011   0.670471  0.993651   0.674428\n",
      "6     0.845947  0.979401   0.582704  0.989381   0.708151\n",
      "7     0.908087  0.978553   0.690598  0.990659   0.723877\n",
      "8     0.917245  0.986376   0.378330  0.996272   0.947498\n",
      "9     0.958040  0.979361   0.958014  0.987374  -0.624392\n",
      "10    0.964212  0.980245   0.905931  0.991920   0.728027\n",
      "11    0.905119  0.979500   0.411069  0.981594   0.117017\n",
      "12    0.760294  0.975994   0.544271  0.988746   0.269091\n",
      "13    0.740507  0.985134   0.378129  0.986501   0.920456\n",
      "14    0.981447  0.981425   0.621426  0.990853   0.526248\n",
      "15    0.150911  0.974731   0.617243  0.989443   0.563450\n",
      "16    0.817843  0.980399   0.141332  0.978746   0.717899\n",
      "17    0.723443  0.981370   0.701372  0.988490   0.798877\n",
      "18    0.974346  0.979154   0.779984  0.987657   0.480779\n",
      "19    0.551635  0.981629   0.771336  0.992865   0.919742\n",
      "20    0.962144  0.977999   0.753419  0.990685   0.857923\n",
      "21    0.893007  0.980736   0.793560  0.984434   0.116297\n",
      "22    0.835548  0.978392   0.743687  0.985273   0.958427\n",
      "23    0.939248  0.983130   0.603897  0.987880  -0.785251\n",
      "24    0.980413  0.983854   0.674102  0.986314   0.545805\n",
      "25    0.980368  0.972224   0.758047  0.984219   0.663196\n",
      "26    0.721673  0.985028   0.459511  0.979097   0.651358\n",
      "27    0.931241  0.959867   0.702072  0.904844   0.310658\n",
      "28    0.931373  0.979395   0.580458  0.995251   0.323211\n",
      "29    0.969577  0.974588   0.740623  0.994122   0.566714\n",
      "Mean  0.839732  0.979092   0.652608  0.982559   0.499561\n",
      "Std   0.190849  0.004885   0.171933  0.021291   0.411620\n"
     ]
    }
   ],
   "execution_count": 22
  }
 ]
}
